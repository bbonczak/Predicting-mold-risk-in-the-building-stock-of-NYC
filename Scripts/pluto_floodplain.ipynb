{
 "cells": [
  {
   "cell_type": "code",
   "execution_count": 1,
   "id": "8268e500-2025-43a5-991d-d3c4a71578d8",
   "metadata": {},
   "outputs": [],
   "source": [
    "import geopandas as gpd\n",
    "import pandas as pd\n",
    "import numpy as np\n",
    "from matplotlib import pyplot as plt\n",
    "from sodapy import Socrata\n",
    "from urllib.request import urlopen\n",
    "import json\n",
    "import copy"
   ]
  },
  {
   "cell_type": "markdown",
   "id": "ae459117-38b9-4b56-823e-59d0331559fe",
   "metadata": {},
   "source": [
    "#### Load PLUO data"
   ]
  },
  {
   "cell_type": "code",
   "execution_count": 2,
   "id": "4137afe7-0447-4b5a-b47a-f8854ec79b11",
   "metadata": {},
   "outputs": [
    {
     "name": "stderr",
     "output_type": "stream",
     "text": [
      "WARNING:root:Requests made without an app_token will be subject to strict throttling limits.\n"
     ]
    }
   ],
   "source": [
    "# setup Socrata client, in this example we use generic, unauthenticated account\n",
    "client = Socrata(\"data.cityofnewyork.us\", None)\n",
    "dataset_id = \"64uk-42ks\"\n",
    "\n",
    "# Obtain the dataset as JSON from API by sodapy.\n",
    "data = client.get(dataset_id, limit=900000, select='bbl, latitude, longitude') # from data description we know the data has 859K rows\n",
    "# data = client.get(dataset_id, limit=30000, select=\"property_id, nyc_borough_block_and_lot_bbl\") # select specific columns only\n",
    "\n",
    "# Convert results to pandas DataFrame\n",
    "pluto_df = pd.DataFrame.from_records(data)"
   ]
  },
  {
   "cell_type": "code",
   "execution_count": 3,
   "id": "b79a35b9-8c4d-40d3-aea5-178b58f2e124",
   "metadata": {},
   "outputs": [
    {
     "data": {
      "text/html": [
       "<div>\n",
       "<style scoped>\n",
       "    .dataframe tbody tr th:only-of-type {\n",
       "        vertical-align: middle;\n",
       "    }\n",
       "\n",
       "    .dataframe tbody tr th {\n",
       "        vertical-align: top;\n",
       "    }\n",
       "\n",
       "    .dataframe thead th {\n",
       "        text-align: right;\n",
       "    }\n",
       "</style>\n",
       "<table border=\"1\" class=\"dataframe\">\n",
       "  <thead>\n",
       "    <tr style=\"text-align: right;\">\n",
       "      <th></th>\n",
       "      <th>bbl</th>\n",
       "      <th>latitude</th>\n",
       "      <th>longitude</th>\n",
       "    </tr>\n",
       "  </thead>\n",
       "  <tbody>\n",
       "    <tr>\n",
       "      <th>0</th>\n",
       "      <td>3018090016.00000000</td>\n",
       "      <td>40.6871961</td>\n",
       "      <td>-73.9465987</td>\n",
       "    </tr>\n",
       "    <tr>\n",
       "      <th>1</th>\n",
       "      <td>3061830033.00000000</td>\n",
       "      <td>40.6145950</td>\n",
       "      <td>-73.9922993</td>\n",
       "    </tr>\n",
       "    <tr>\n",
       "      <th>2</th>\n",
       "      <td>3062060022.00000000</td>\n",
       "      <td>40.6125007</td>\n",
       "      <td>-73.9918421</td>\n",
       "    </tr>\n",
       "    <tr>\n",
       "      <th>3</th>\n",
       "      <td>3018520037.00000000</td>\n",
       "      <td>40.6818274</td>\n",
       "      <td>-73.9413030</td>\n",
       "    </tr>\n",
       "    <tr>\n",
       "      <th>4</th>\n",
       "      <td>3058930008.00000000</td>\n",
       "      <td>40.6320474</td>\n",
       "      <td>-74.0212816</td>\n",
       "    </tr>\n",
       "  </tbody>\n",
       "</table>\n",
       "</div>"
      ],
      "text/plain": [
       "                   bbl    latitude    longitude\n",
       "0  3018090016.00000000  40.6871961  -73.9465987\n",
       "1  3061830033.00000000  40.6145950  -73.9922993\n",
       "2  3062060022.00000000  40.6125007  -73.9918421\n",
       "3  3018520037.00000000  40.6818274  -73.9413030\n",
       "4  3058930008.00000000  40.6320474  -74.0212816"
      ]
     },
     "execution_count": 3,
     "metadata": {},
     "output_type": "execute_result"
    }
   ],
   "source": [
    "pluto_df.head()"
   ]
  },
  {
   "cell_type": "code",
   "execution_count": 4,
   "id": "d9635501-4a89-40f2-9dab-bb4f83bed16b",
   "metadata": {},
   "outputs": [],
   "source": [
    "pluto_df_ = pluto_df[~pluto_df.isnull().any(axis=1)]"
   ]
  },
  {
   "cell_type": "code",
   "execution_count": 5,
   "id": "6471a493-2f79-4c8e-974a-238e5c524a8e",
   "metadata": {},
   "outputs": [],
   "source": [
    "#geo dataframe\n",
    "#points\n",
    "pluto_gdf = gpd.GeoDataFrame(pluto_df_, geometry=gpd.points_from_xy(pluto_df_.longitude, pluto_df_.latitude))"
   ]
  },
  {
   "cell_type": "code",
   "execution_count": 6,
   "id": "b1e61f8a-db04-47aa-a15a-4d8e15c76f8c",
   "metadata": {},
   "outputs": [
    {
     "data": {
      "text/html": [
       "<div>\n",
       "<style scoped>\n",
       "    .dataframe tbody tr th:only-of-type {\n",
       "        vertical-align: middle;\n",
       "    }\n",
       "\n",
       "    .dataframe tbody tr th {\n",
       "        vertical-align: top;\n",
       "    }\n",
       "\n",
       "    .dataframe thead th {\n",
       "        text-align: right;\n",
       "    }\n",
       "</style>\n",
       "<table border=\"1\" class=\"dataframe\">\n",
       "  <thead>\n",
       "    <tr style=\"text-align: right;\">\n",
       "      <th></th>\n",
       "      <th>bbl</th>\n",
       "      <th>latitude</th>\n",
       "      <th>longitude</th>\n",
       "      <th>geometry</th>\n",
       "    </tr>\n",
       "  </thead>\n",
       "  <tbody>\n",
       "    <tr>\n",
       "      <th>0</th>\n",
       "      <td>3018090016.00000000</td>\n",
       "      <td>40.6871961</td>\n",
       "      <td>-73.9465987</td>\n",
       "      <td>POINT (-73.94660 40.68720)</td>\n",
       "    </tr>\n",
       "    <tr>\n",
       "      <th>1</th>\n",
       "      <td>3061830033.00000000</td>\n",
       "      <td>40.6145950</td>\n",
       "      <td>-73.9922993</td>\n",
       "      <td>POINT (-73.99230 40.61460)</td>\n",
       "    </tr>\n",
       "    <tr>\n",
       "      <th>2</th>\n",
       "      <td>3062060022.00000000</td>\n",
       "      <td>40.6125007</td>\n",
       "      <td>-73.9918421</td>\n",
       "      <td>POINT (-73.99184 40.61250)</td>\n",
       "    </tr>\n",
       "    <tr>\n",
       "      <th>3</th>\n",
       "      <td>3018520037.00000000</td>\n",
       "      <td>40.6818274</td>\n",
       "      <td>-73.9413030</td>\n",
       "      <td>POINT (-73.94130 40.68183)</td>\n",
       "    </tr>\n",
       "    <tr>\n",
       "      <th>4</th>\n",
       "      <td>3058930008.00000000</td>\n",
       "      <td>40.6320474</td>\n",
       "      <td>-74.0212816</td>\n",
       "      <td>POINT (-74.02128 40.63205)</td>\n",
       "    </tr>\n",
       "  </tbody>\n",
       "</table>\n",
       "</div>"
      ],
      "text/plain": [
       "                   bbl    latitude    longitude                    geometry\n",
       "0  3018090016.00000000  40.6871961  -73.9465987  POINT (-73.94660 40.68720)\n",
       "1  3061830033.00000000  40.6145950  -73.9922993  POINT (-73.99230 40.61460)\n",
       "2  3062060022.00000000  40.6125007  -73.9918421  POINT (-73.99184 40.61250)\n",
       "3  3018520037.00000000  40.6818274  -73.9413030  POINT (-73.94130 40.68183)\n",
       "4  3058930008.00000000  40.6320474  -74.0212816  POINT (-74.02128 40.63205)"
      ]
     },
     "execution_count": 6,
     "metadata": {},
     "output_type": "execute_result"
    }
   ],
   "source": [
    "pluto_gdf.head()"
   ]
  },
  {
   "cell_type": "code",
   "execution_count": 7,
   "id": "095d2b43-b4ce-4323-950a-394feeff793c",
   "metadata": {},
   "outputs": [],
   "source": [
    "pluto_gdf = pluto_gdf.set_crs(4326)"
   ]
  },
  {
   "cell_type": "code",
   "execution_count": 8,
   "id": "2635400b-1ff1-4af5-825e-4361b103a561",
   "metadata": {},
   "outputs": [
    {
     "data": {
      "text/plain": [
       "857579"
      ]
     },
     "execution_count": 8,
     "metadata": {},
     "output_type": "execute_result"
    }
   ],
   "source": [
    "#sanity check\n",
    "len(pluto_gdf)"
   ]
  },
  {
   "cell_type": "code",
   "execution_count": 9,
   "id": "9f4e5bbe-4ae1-4de9-a2b8-08e36bca63f4",
   "metadata": {},
   "outputs": [
    {
     "data": {
      "text/plain": [
       "857579"
      ]
     },
     "execution_count": 9,
     "metadata": {},
     "output_type": "execute_result"
    }
   ],
   "source": [
    "#sanity check\n",
    "#bbl should be the unique identifier\n",
    "len(pluto_gdf['bbl'].unique())"
   ]
  },
  {
   "cell_type": "markdown",
   "id": "3002c6c4-c7c7-4a7e-a56d-9dc6b4bc8010",
   "metadata": {},
   "source": [
    "#### Load floodplain data"
   ]
  },
  {
   "cell_type": "code",
   "execution_count": 10,
   "id": "45647eaa-3f27-4423-b045-5e54d9fa10c1",
   "metadata": {},
   "outputs": [],
   "source": [
    "#floodplain\n",
    "fp_500 = gpd.read_file('../Data/fp_500yr/geo_export_f9627ca8-5409-4bf4-9e1c-e812fdb2e4d7.shp')\n",
    "fp_500 = fp_500.set_crs(4326, allow_override=True)"
   ]
  },
  {
   "cell_type": "code",
   "execution_count": 11,
   "id": "8038c703-5426-48e5-b340-15569a425585",
   "metadata": {},
   "outputs": [
    {
     "data": {
      "text/html": [
       "<div>\n",
       "<style scoped>\n",
       "    .dataframe tbody tr th:only-of-type {\n",
       "        vertical-align: middle;\n",
       "    }\n",
       "\n",
       "    .dataframe tbody tr th {\n",
       "        vertical-align: top;\n",
       "    }\n",
       "\n",
       "    .dataframe thead th {\n",
       "        text-align: right;\n",
       "    }\n",
       "</style>\n",
       "<table border=\"1\" class=\"dataframe\">\n",
       "  <thead>\n",
       "    <tr style=\"text-align: right;\">\n",
       "      <th></th>\n",
       "      <th>abfe_0_2pc</th>\n",
       "      <th>fld_zone</th>\n",
       "      <th>gridcode</th>\n",
       "      <th>join_count</th>\n",
       "      <th>shape_area</th>\n",
       "      <th>shape_leng</th>\n",
       "      <th>static_bfe</th>\n",
       "      <th>geometry</th>\n",
       "    </tr>\n",
       "  </thead>\n",
       "  <tbody>\n",
       "    <tr>\n",
       "      <th>0</th>\n",
       "      <td>0.0</td>\n",
       "      <td>NaN</td>\n",
       "      <td>1500.0</td>\n",
       "      <td>0.0</td>\n",
       "      <td>0.0</td>\n",
       "      <td>0.0</td>\n",
       "      <td>0.0</td>\n",
       "      <td>POLYGON ((-73.90993 40.91517, -73.91010 40.915...</td>\n",
       "    </tr>\n",
       "    <tr>\n",
       "      <th>1</th>\n",
       "      <td>0.0</td>\n",
       "      <td>NaN</td>\n",
       "      <td>1300.0</td>\n",
       "      <td>0.0</td>\n",
       "      <td>0.0</td>\n",
       "      <td>0.0</td>\n",
       "      <td>0.0</td>\n",
       "      <td>POLYGON ((-73.88825 40.89957, -73.88801 40.899...</td>\n",
       "    </tr>\n",
       "    <tr>\n",
       "      <th>2</th>\n",
       "      <td>0.0</td>\n",
       "      <td>NaN</td>\n",
       "      <td>1300.0</td>\n",
       "      <td>0.0</td>\n",
       "      <td>0.0</td>\n",
       "      <td>0.0</td>\n",
       "      <td>0.0</td>\n",
       "      <td>POLYGON ((-73.88852 40.89902, -73.88846 40.899...</td>\n",
       "    </tr>\n",
       "    <tr>\n",
       "      <th>3</th>\n",
       "      <td>0.0</td>\n",
       "      <td>NaN</td>\n",
       "      <td>1300.0</td>\n",
       "      <td>0.0</td>\n",
       "      <td>0.0</td>\n",
       "      <td>0.0</td>\n",
       "      <td>0.0</td>\n",
       "      <td>POLYGON ((-73.88861 40.89875, -73.88861 40.899...</td>\n",
       "    </tr>\n",
       "    <tr>\n",
       "      <th>4</th>\n",
       "      <td>0.0</td>\n",
       "      <td>NaN</td>\n",
       "      <td>1300.0</td>\n",
       "      <td>0.0</td>\n",
       "      <td>0.0</td>\n",
       "      <td>0.0</td>\n",
       "      <td>0.0</td>\n",
       "      <td>POLYGON ((-73.88861 40.89861, -73.88874 40.898...</td>\n",
       "    </tr>\n",
       "  </tbody>\n",
       "</table>\n",
       "</div>"
      ],
      "text/plain": [
       "   abfe_0_2pc fld_zone  gridcode  join_count  shape_area  shape_leng   \n",
       "0         0.0      NaN    1500.0         0.0         0.0         0.0  \\\n",
       "1         0.0      NaN    1300.0         0.0         0.0         0.0   \n",
       "2         0.0      NaN    1300.0         0.0         0.0         0.0   \n",
       "3         0.0      NaN    1300.0         0.0         0.0         0.0   \n",
       "4         0.0      NaN    1300.0         0.0         0.0         0.0   \n",
       "\n",
       "   static_bfe                                           geometry  \n",
       "0         0.0  POLYGON ((-73.90993 40.91517, -73.91010 40.915...  \n",
       "1         0.0  POLYGON ((-73.88825 40.89957, -73.88801 40.899...  \n",
       "2         0.0  POLYGON ((-73.88852 40.89902, -73.88846 40.899...  \n",
       "3         0.0  POLYGON ((-73.88861 40.89875, -73.88861 40.899...  \n",
       "4         0.0  POLYGON ((-73.88861 40.89861, -73.88874 40.898...  "
      ]
     },
     "execution_count": 11,
     "metadata": {},
     "output_type": "execute_result"
    }
   ],
   "source": [
    "fp_500.head()"
   ]
  },
  {
   "cell_type": "code",
   "execution_count": 12,
   "id": "c8802c6b-1c43-4ec4-a7f7-bf4c1f2af810",
   "metadata": {},
   "outputs": [
    {
     "data": {
      "text/plain": [
       "<Axes: >"
      ]
     },
     "execution_count": 12,
     "metadata": {},
     "output_type": "execute_result"
    },
    {
     "data": {
      "image/png": "[encoded data removed]",
      "text/plain": [
       "<Figure size 640x480 with 1 Axes>"
      ]
     },
     "metadata": {},
     "output_type": "display_data"
    }
   ],
   "source": [
    "fp_500.plot()"
   ]
  },
  {
   "cell_type": "code",
   "execution_count": 13,
   "id": "3d0f0027-1593-43aa-b2c6-b002f4cd2c85",
   "metadata": {},
   "outputs": [
    {
     "data": {
      "text/plain": [
       "array([nan, 'AE', 'VE', 'AO'], dtype=object)"
      ]
     },
     "execution_count": 13,
     "metadata": {},
     "output_type": "execute_result"
    }
   ],
   "source": [
    "fp_500['fld_zone'].unique()"
   ]
  },
  {
   "cell_type": "code",
   "execution_count": 14,
   "id": "84148425-dd28-4dda-8b51-d86780f53f67",
   "metadata": {},
   "outputs": [
    {
     "data": {
      "text/plain": [
       "<Axes: >"
      ]
     },
     "execution_count": 14,
     "metadata": {},
     "output_type": "execute_result"
    },
    {
     "data": {
      "image/png": "[encoded data removed]",
      "text/plain": [
       "<Figure size 640x480 with 1 Axes>"
      ]
     },
     "metadata": {},
     "output_type": "display_data"
    }
   ],
   "source": [
    "#only select rows with a designated flood zone\n",
    "fp_500_z = fp_500.loc[(fp_500['fld_zone'] == 'AE') | (fp_500['fld_zone'] == 'VE') | (fp_500['fld_zone'] == 'AO')]\n",
    "fp_500_z.plot()"
   ]
  },
  {
   "cell_type": "markdown",
   "id": "0abd7edb-310a-4424-a043-88cdbba8e5b0",
   "metadata": {},
   "source": [
    "#### Use the overlay() function (https://geopandas.org/en/stable/docs/user_guide/set_operations.html) to calculate intersection of PLUTO points and floodplain polygons"
   ]
  },
  {
   "cell_type": "code",
   "execution_count": 15,
   "id": "5b2f0eca-a62a-4662-9863-162bcb8807c9",
   "metadata": {},
   "outputs": [
    {
     "name": "stdout",
     "output_type": "stream",
     "text": [
      "54777\n"
     ]
    },
    {
     "data": {
      "text/html": [
       "<div>\n",
       "<style scoped>\n",
       "    .dataframe tbody tr th:only-of-type {\n",
       "        vertical-align: middle;\n",
       "    }\n",
       "\n",
       "    .dataframe tbody tr th {\n",
       "        vertical-align: top;\n",
       "    }\n",
       "\n",
       "    .dataframe thead th {\n",
       "        text-align: right;\n",
       "    }\n",
       "</style>\n",
       "<table border=\"1\" class=\"dataframe\">\n",
       "  <thead>\n",
       "    <tr style=\"text-align: right;\">\n",
       "      <th></th>\n",
       "      <th>bbl</th>\n",
       "      <th>latitude</th>\n",
       "      <th>longitude</th>\n",
       "      <th>abfe_0_2pc</th>\n",
       "      <th>fld_zone</th>\n",
       "      <th>gridcode</th>\n",
       "      <th>join_count</th>\n",
       "      <th>shape_area</th>\n",
       "      <th>shape_leng</th>\n",
       "      <th>static_bfe</th>\n",
       "      <th>geometry</th>\n",
       "      <th>col_1</th>\n",
       "    </tr>\n",
       "  </thead>\n",
       "  <tbody>\n",
       "    <tr>\n",
       "      <th>0</th>\n",
       "      <td>3068680068.00000000</td>\n",
       "      <td>40.5959958</td>\n",
       "      <td>-73.9871882</td>\n",
       "      <td>14.0</td>\n",
       "      <td>AE</td>\n",
       "      <td>1400.0</td>\n",
       "      <td>2.0</td>\n",
       "      <td>1.075891e+07</td>\n",
       "      <td>54372.827437</td>\n",
       "      <td>10.0</td>\n",
       "      <td>POINT (-73.98719 40.59600)</td>\n",
       "      <td>1</td>\n",
       "    </tr>\n",
       "    <tr>\n",
       "      <th>1</th>\n",
       "      <td>3071610044.00000000</td>\n",
       "      <td>40.5894214</td>\n",
       "      <td>-73.9826421</td>\n",
       "      <td>14.0</td>\n",
       "      <td>AE</td>\n",
       "      <td>1400.0</td>\n",
       "      <td>2.0</td>\n",
       "      <td>1.075891e+07</td>\n",
       "      <td>54372.827437</td>\n",
       "      <td>10.0</td>\n",
       "      <td>POINT (-73.98264 40.58942)</td>\n",
       "      <td>1</td>\n",
       "    </tr>\n",
       "    <tr>\n",
       "      <th>2</th>\n",
       "      <td>3069190097.00000000</td>\n",
       "      <td>40.5855652</td>\n",
       "      <td>-73.9844576</td>\n",
       "      <td>14.0</td>\n",
       "      <td>AE</td>\n",
       "      <td>1400.0</td>\n",
       "      <td>2.0</td>\n",
       "      <td>1.075891e+07</td>\n",
       "      <td>54372.827437</td>\n",
       "      <td>10.0</td>\n",
       "      <td>POINT (-73.98446 40.58557)</td>\n",
       "      <td>1</td>\n",
       "    </tr>\n",
       "    <tr>\n",
       "      <th>3</th>\n",
       "      <td>3068660077.00000000</td>\n",
       "      <td>40.5965147</td>\n",
       "      <td>-73.9890642</td>\n",
       "      <td>14.0</td>\n",
       "      <td>AE</td>\n",
       "      <td>1400.0</td>\n",
       "      <td>2.0</td>\n",
       "      <td>1.075891e+07</td>\n",
       "      <td>54372.827437</td>\n",
       "      <td>10.0</td>\n",
       "      <td>POINT (-73.98906 40.59651)</td>\n",
       "      <td>1</td>\n",
       "    </tr>\n",
       "    <tr>\n",
       "      <th>4</th>\n",
       "      <td>3068670069.00000000</td>\n",
       "      <td>40.5961825</td>\n",
       "      <td>-73.9881640</td>\n",
       "      <td>14.0</td>\n",
       "      <td>AE</td>\n",
       "      <td>1400.0</td>\n",
       "      <td>2.0</td>\n",
       "      <td>1.075891e+07</td>\n",
       "      <td>54372.827437</td>\n",
       "      <td>10.0</td>\n",
       "      <td>POINT (-73.98816 40.59618)</td>\n",
       "      <td>1</td>\n",
       "    </tr>\n",
       "  </tbody>\n",
       "</table>\n",
       "</div>"
      ],
      "text/plain": [
       "                   bbl    latitude    longitude  abfe_0_2pc fld_zone   \n",
       "0  3068680068.00000000  40.5959958  -73.9871882        14.0       AE  \\\n",
       "1  3071610044.00000000  40.5894214  -73.9826421        14.0       AE   \n",
       "2  3069190097.00000000  40.5855652  -73.9844576        14.0       AE   \n",
       "3  3068660077.00000000  40.5965147  -73.9890642        14.0       AE   \n",
       "4  3068670069.00000000  40.5961825  -73.9881640        14.0       AE   \n",
       "\n",
       "   gridcode  join_count    shape_area    shape_leng  static_bfe   \n",
       "0    1400.0         2.0  1.075891e+07  54372.827437        10.0  \\\n",
       "1    1400.0         2.0  1.075891e+07  54372.827437        10.0   \n",
       "2    1400.0         2.0  1.075891e+07  54372.827437        10.0   \n",
       "3    1400.0         2.0  1.075891e+07  54372.827437        10.0   \n",
       "4    1400.0         2.0  1.075891e+07  54372.827437        10.0   \n",
       "\n",
       "                     geometry  col_1  \n",
       "0  POINT (-73.98719 40.59600)      1  \n",
       "1  POINT (-73.98264 40.58942)      1  \n",
       "2  POINT (-73.98446 40.58557)      1  \n",
       "3  POINT (-73.98906 40.59651)      1  \n",
       "4  POINT (-73.98816 40.59618)      1  "
      ]
     },
     "execution_count": 15,
     "metadata": {},
     "output_type": "execute_result"
    }
   ],
   "source": [
    "comb = gpd.overlay(pluto_gdf, fp_500_z, how='intersection')\n",
    "comb = comb.drop_duplicates('bbl')\n",
    "comb['col_1'] = 1\n",
    "print(len(comb))\n",
    "comb.head()"
   ]
  },
  {
   "cell_type": "code",
   "execution_count": 16,
   "id": "14065532-ba26-4bab-8b7a-7f7322c95d2f",
   "metadata": {},
   "outputs": [
    {
     "data": {
      "text/html": [
       "<div>\n",
       "<style scoped>\n",
       "    .dataframe tbody tr th:only-of-type {\n",
       "        vertical-align: middle;\n",
       "    }\n",
       "\n",
       "    .dataframe tbody tr th {\n",
       "        vertical-align: top;\n",
       "    }\n",
       "\n",
       "    .dataframe thead th {\n",
       "        text-align: right;\n",
       "    }\n",
       "</style>\n",
       "<table border=\"1\" class=\"dataframe\">\n",
       "  <thead>\n",
       "    <tr style=\"text-align: right;\">\n",
       "      <th></th>\n",
       "      <th>bbl</th>\n",
       "      <th>latitude</th>\n",
       "      <th>longitude</th>\n",
       "      <th>geometry</th>\n",
       "      <th>col_1</th>\n",
       "    </tr>\n",
       "  </thead>\n",
       "  <tbody>\n",
       "    <tr>\n",
       "      <th>0</th>\n",
       "      <td>3018090016.00000000</td>\n",
       "      <td>40.6871961</td>\n",
       "      <td>-73.9465987</td>\n",
       "      <td>POINT (-73.94660 40.68720)</td>\n",
       "      <td>NaN</td>\n",
       "    </tr>\n",
       "    <tr>\n",
       "      <th>1</th>\n",
       "      <td>3061830033.00000000</td>\n",
       "      <td>40.6145950</td>\n",
       "      <td>-73.9922993</td>\n",
       "      <td>POINT (-73.99230 40.61460)</td>\n",
       "      <td>NaN</td>\n",
       "    </tr>\n",
       "    <tr>\n",
       "      <th>2</th>\n",
       "      <td>3062060022.00000000</td>\n",
       "      <td>40.6125007</td>\n",
       "      <td>-73.9918421</td>\n",
       "      <td>POINT (-73.99184 40.61250)</td>\n",
       "      <td>NaN</td>\n",
       "    </tr>\n",
       "    <tr>\n",
       "      <th>3</th>\n",
       "      <td>3018520037.00000000</td>\n",
       "      <td>40.6818274</td>\n",
       "      <td>-73.9413030</td>\n",
       "      <td>POINT (-73.94130 40.68183)</td>\n",
       "      <td>NaN</td>\n",
       "    </tr>\n",
       "    <tr>\n",
       "      <th>4</th>\n",
       "      <td>3058930008.00000000</td>\n",
       "      <td>40.6320474</td>\n",
       "      <td>-74.0212816</td>\n",
       "      <td>POINT (-74.02128 40.63205)</td>\n",
       "      <td>NaN</td>\n",
       "    </tr>\n",
       "  </tbody>\n",
       "</table>\n",
       "</div>"
      ],
      "text/plain": [
       "                   bbl    latitude    longitude                    geometry   \n",
       "0  3018090016.00000000  40.6871961  -73.9465987  POINT (-73.94660 40.68720)  \\\n",
       "1  3061830033.00000000  40.6145950  -73.9922993  POINT (-73.99230 40.61460)   \n",
       "2  3062060022.00000000  40.6125007  -73.9918421  POINT (-73.99184 40.61250)   \n",
       "3  3018520037.00000000  40.6818274  -73.9413030  POINT (-73.94130 40.68183)   \n",
       "4  3058930008.00000000  40.6320474  -74.0212816  POINT (-74.02128 40.63205)   \n",
       "\n",
       "   col_1  \n",
       "0    NaN  \n",
       "1    NaN  \n",
       "2    NaN  \n",
       "3    NaN  \n",
       "4    NaN  "
      ]
     },
     "execution_count": 16,
     "metadata": {},
     "output_type": "execute_result"
    }
   ],
   "source": [
    "#use the bbl column to join back to original pluto_gdf\n",
    "df1 = pluto_gdf.merge(comb[['bbl', 'col_1']], how = 'left',\n",
    "                left_on = 'bbl', right_on = 'bbl')\n",
    "df1 = df1.drop_duplicates('bbl', keep='first')\n",
    "df1.head()"
   ]
  },
  {
   "cell_type": "code",
   "execution_count": 17,
   "id": "4075d131-6db9-4f1f-8cfe-b93b9d1d36bd",
   "metadata": {},
   "outputs": [
    {
     "name": "stdout",
     "output_type": "stream",
     "text": [
      "(857579, 5)\n",
      "54777\n",
      "802802\n"
     ]
    }
   ],
   "source": [
    "#sanity check\n",
    "print(df1.shape)\n",
    "print(df1['col_1'].notna().sum())\n",
    "print(df1['col_1'].isna().sum())"
   ]
  },
  {
   "cell_type": "code",
   "execution_count": 18,
   "id": "e5ae157b-0f68-461c-b960-05508fc902a5",
   "metadata": {},
   "outputs": [
    {
     "data": {
      "text/html": [
       "<div>\n",
       "<style scoped>\n",
       "    .dataframe tbody tr th:only-of-type {\n",
       "        vertical-align: middle;\n",
       "    }\n",
       "\n",
       "    .dataframe tbody tr th {\n",
       "        vertical-align: top;\n",
       "    }\n",
       "\n",
       "    .dataframe thead th {\n",
       "        text-align: right;\n",
       "    }\n",
       "</style>\n",
       "<table border=\"1\" class=\"dataframe\">\n",
       "  <thead>\n",
       "    <tr style=\"text-align: right;\">\n",
       "      <th></th>\n",
       "      <th>bbl</th>\n",
       "      <th>latitude</th>\n",
       "      <th>longitude</th>\n",
       "      <th>geometry</th>\n",
       "      <th>in_fz</th>\n",
       "    </tr>\n",
       "  </thead>\n",
       "  <tbody>\n",
       "    <tr>\n",
       "      <th>0</th>\n",
       "      <td>3018090016.00000000</td>\n",
       "      <td>40.6871961</td>\n",
       "      <td>-73.9465987</td>\n",
       "      <td>POINT (-73.94660 40.68720)</td>\n",
       "      <td>0</td>\n",
       "    </tr>\n",
       "    <tr>\n",
       "      <th>1</th>\n",
       "      <td>3061830033.00000000</td>\n",
       "      <td>40.6145950</td>\n",
       "      <td>-73.9922993</td>\n",
       "      <td>POINT (-73.99230 40.61460)</td>\n",
       "      <td>0</td>\n",
       "    </tr>\n",
       "    <tr>\n",
       "      <th>2</th>\n",
       "      <td>3062060022.00000000</td>\n",
       "      <td>40.6125007</td>\n",
       "      <td>-73.9918421</td>\n",
       "      <td>POINT (-73.99184 40.61250)</td>\n",
       "      <td>0</td>\n",
       "    </tr>\n",
       "    <tr>\n",
       "      <th>3</th>\n",
       "      <td>3018520037.00000000</td>\n",
       "      <td>40.6818274</td>\n",
       "      <td>-73.9413030</td>\n",
       "      <td>POINT (-73.94130 40.68183)</td>\n",
       "      <td>0</td>\n",
       "    </tr>\n",
       "    <tr>\n",
       "      <th>4</th>\n",
       "      <td>3058930008.00000000</td>\n",
       "      <td>40.6320474</td>\n",
       "      <td>-74.0212816</td>\n",
       "      <td>POINT (-74.02128 40.63205)</td>\n",
       "      <td>0</td>\n",
       "    </tr>\n",
       "  </tbody>\n",
       "</table>\n",
       "</div>"
      ],
      "text/plain": [
       "                   bbl    latitude    longitude                    geometry   \n",
       "0  3018090016.00000000  40.6871961  -73.9465987  POINT (-73.94660 40.68720)  \\\n",
       "1  3061830033.00000000  40.6145950  -73.9922993  POINT (-73.99230 40.61460)   \n",
       "2  3062060022.00000000  40.6125007  -73.9918421  POINT (-73.99184 40.61250)   \n",
       "3  3018520037.00000000  40.6818274  -73.9413030  POINT (-73.94130 40.68183)   \n",
       "4  3058930008.00000000  40.6320474  -74.0212816  POINT (-74.02128 40.63205)   \n",
       "\n",
       "   in_fz  \n",
       "0      0  \n",
       "1      0  \n",
       "2      0  \n",
       "3      0  \n",
       "4      0  "
      ]
     },
     "execution_count": 18,
     "metadata": {},
     "output_type": "execute_result"
    }
   ],
   "source": [
    "#in_fz column: 0 not in flood zone; 1 in flood zone\n",
    "df1['col_1'] = df1['col_1'].replace(np.nan, 0)\n",
    "df1 = df1.rename(columns={'col_1': 'in_fz'})\n",
    "df1['in_fz'] = df1['in_fz'].astype(int)\n",
    "df1.head()"
   ]
  },
  {
   "cell_type": "code",
   "execution_count": 19,
   "id": "7489bed5-fc99-4873-954f-89eae18f25fe",
   "metadata": {},
   "outputs": [
    {
     "name": "stdout",
     "output_type": "stream",
     "text": [
      "857579\n"
     ]
    }
   ],
   "source": [
    "print(df1['in_fz'].notna().sum())"
   ]
  },
  {
   "cell_type": "code",
   "execution_count": 20,
   "id": "9cfe4c61-0f48-4856-9cd3-9d31d51832ae",
   "metadata": {},
   "outputs": [],
   "source": [
    "# #save output\n",
    "# #shp\n",
    "# df1.to_file('../Data/pluto_floodplain/pluto_floodplain.shp')"
   ]
  },
  {
   "cell_type": "code",
   "execution_count": 21,
   "id": "115c6064-3985-45e7-b95f-f0bb60fa084e",
   "metadata": {},
   "outputs": [],
   "source": [
    "# #csv\n",
    "# df1.to_csv('../Data/pluto_floodplain.csv', index=False)"
   ]
  },
  {
   "cell_type": "markdown",
   "id": "cbcdfcfb-4f09-4e2c-ab22-b89750ead5de",
   "metadata": {},
   "source": [
    "#### Add nta designation to every PLUTO point"
   ]
  },
  {
   "cell_type": "code",
   "execution_count": 22,
   "id": "daadeaec-5027-40ad-9d84-95e30b7cec1d",
   "metadata": {},
   "outputs": [
    {
     "data": {
      "text/html": [
       "<div>\n",
       "<style scoped>\n",
       "    .dataframe tbody tr th:only-of-type {\n",
       "        vertical-align: middle;\n",
       "    }\n",
       "\n",
       "    .dataframe tbody tr th {\n",
       "        vertical-align: top;\n",
       "    }\n",
       "\n",
       "    .dataframe thead th {\n",
       "        text-align: right;\n",
       "    }\n",
       "</style>\n",
       "<table border=\"1\" class=\"dataframe\">\n",
       "  <thead>\n",
       "    <tr style=\"text-align: right;\">\n",
       "      <th></th>\n",
       "      <th>bbl</th>\n",
       "      <th>latitude</th>\n",
       "      <th>longitude</th>\n",
       "      <th>geometry</th>\n",
       "      <th>in_fz</th>\n",
       "    </tr>\n",
       "  </thead>\n",
       "  <tbody>\n",
       "    <tr>\n",
       "      <th>0</th>\n",
       "      <td>3018090016.00000000</td>\n",
       "      <td>40.6871961</td>\n",
       "      <td>-73.9465987</td>\n",
       "      <td>POINT (-73.94660 40.68720)</td>\n",
       "      <td>0</td>\n",
       "    </tr>\n",
       "    <tr>\n",
       "      <th>1</th>\n",
       "      <td>3061830033.00000000</td>\n",
       "      <td>40.6145950</td>\n",
       "      <td>-73.9922993</td>\n",
       "      <td>POINT (-73.99230 40.61460)</td>\n",
       "      <td>0</td>\n",
       "    </tr>\n",
       "    <tr>\n",
       "      <th>2</th>\n",
       "      <td>3062060022.00000000</td>\n",
       "      <td>40.6125007</td>\n",
       "      <td>-73.9918421</td>\n",
       "      <td>POINT (-73.99184 40.61250)</td>\n",
       "      <td>0</td>\n",
       "    </tr>\n",
       "    <tr>\n",
       "      <th>3</th>\n",
       "      <td>3018520037.00000000</td>\n",
       "      <td>40.6818274</td>\n",
       "      <td>-73.9413030</td>\n",
       "      <td>POINT (-73.94130 40.68183)</td>\n",
       "      <td>0</td>\n",
       "    </tr>\n",
       "    <tr>\n",
       "      <th>4</th>\n",
       "      <td>3058930008.00000000</td>\n",
       "      <td>40.6320474</td>\n",
       "      <td>-74.0212816</td>\n",
       "      <td>POINT (-74.02128 40.63205)</td>\n",
       "      <td>0</td>\n",
       "    </tr>\n",
       "  </tbody>\n",
       "</table>\n",
       "</div>"
      ],
      "text/plain": [
       "                   bbl    latitude    longitude                    geometry   \n",
       "0  3018090016.00000000  40.6871961  -73.9465987  POINT (-73.94660 40.68720)  \\\n",
       "1  3061830033.00000000  40.6145950  -73.9922993  POINT (-73.99230 40.61460)   \n",
       "2  3062060022.00000000  40.6125007  -73.9918421  POINT (-73.99184 40.61250)   \n",
       "3  3018520037.00000000  40.6818274  -73.9413030  POINT (-73.94130 40.68183)   \n",
       "4  3058930008.00000000  40.6320474  -74.0212816  POINT (-74.02128 40.63205)   \n",
       "\n",
       "   in_fz  \n",
       "0      0  \n",
       "1      0  \n",
       "2      0  \n",
       "3      0  \n",
       "4      0  "
      ]
     },
     "execution_count": 22,
     "metadata": {},
     "output_type": "execute_result"
    }
   ],
   "source": [
    "#open pluto flood df\n",
    "pluto = df1.copy()\n",
    "pluto.head()"
   ]
  },
  {
   "cell_type": "code",
   "execution_count": 23,
   "id": "35728e76-3d72-490d-91f6-f45ede96d928",
   "metadata": {},
   "outputs": [
    {
     "data": {
      "text/plain": [
       "<Geographic 2D CRS: EPSG:4326>\n",
       "Name: WGS 84\n",
       "Axis Info [ellipsoidal]:\n",
       "- Lat[north]: Geodetic latitude (degree)\n",
       "- Lon[east]: Geodetic longitude (degree)\n",
       "Area of Use:\n",
       "- name: World.\n",
       "- bounds: (-180.0, -90.0, 180.0, 90.0)\n",
       "Datum: World Geodetic System 1984 ensemble\n",
       "- Ellipsoid: WGS 84\n",
       "- Prime Meridian: Greenwich"
      ]
     },
     "execution_count": 23,
     "metadata": {},
     "output_type": "execute_result"
    }
   ],
   "source": [
    "#check crs\n",
    "pluto.crs"
   ]
  },
  {
   "cell_type": "code",
   "execution_count": 24,
   "id": "9fa1e2de-224b-451e-ba02-fee569478c74",
   "metadata": {},
   "outputs": [
    {
     "data": {
      "text/html": [
       "<div>\n",
       "<style scoped>\n",
       "    .dataframe tbody tr th:only-of-type {\n",
       "        vertical-align: middle;\n",
       "    }\n",
       "\n",
       "    .dataframe tbody tr th {\n",
       "        vertical-align: top;\n",
       "    }\n",
       "\n",
       "    .dataframe thead th {\n",
       "        text-align: right;\n",
       "    }\n",
       "</style>\n",
       "<table border=\"1\" class=\"dataframe\">\n",
       "  <thead>\n",
       "    <tr style=\"text-align: right;\">\n",
       "      <th></th>\n",
       "      <th>boro_code</th>\n",
       "      <th>boro_name</th>\n",
       "      <th>county_fip</th>\n",
       "      <th>ntacode</th>\n",
       "      <th>ntaname</th>\n",
       "      <th>shape_area</th>\n",
       "      <th>shape_leng</th>\n",
       "      <th>geometry</th>\n",
       "    </tr>\n",
       "  </thead>\n",
       "  <tbody>\n",
       "    <tr>\n",
       "      <th>0</th>\n",
       "      <td>4.0</td>\n",
       "      <td>Queens</td>\n",
       "      <td>081</td>\n",
       "      <td>QN08</td>\n",
       "      <td>St. Albans</td>\n",
       "      <td>7.741275e+07</td>\n",
       "      <td>45401.316803</td>\n",
       "      <td>POLYGON ((-73.75205 40.70523, -73.75174 40.704...</td>\n",
       "    </tr>\n",
       "    <tr>\n",
       "      <th>1</th>\n",
       "      <td>2.0</td>\n",
       "      <td>Bronx</td>\n",
       "      <td>005</td>\n",
       "      <td>BX28</td>\n",
       "      <td>Van Cortlandt Village</td>\n",
       "      <td>2.566612e+07</td>\n",
       "      <td>21945.719299</td>\n",
       "      <td>POLYGON ((-73.88705 40.88435, -73.88705 40.884...</td>\n",
       "    </tr>\n",
       "    <tr>\n",
       "      <th>2</th>\n",
       "      <td>4.0</td>\n",
       "      <td>Queens</td>\n",
       "      <td>081</td>\n",
       "      <td>QN55</td>\n",
       "      <td>South Ozone Park</td>\n",
       "      <td>8.246139e+07</td>\n",
       "      <td>36708.169305</td>\n",
       "      <td>POLYGON ((-73.80577 40.68293, -73.80552 40.682...</td>\n",
       "    </tr>\n",
       "    <tr>\n",
       "      <th>3</th>\n",
       "      <td>3.0</td>\n",
       "      <td>Brooklyn</td>\n",
       "      <td>047</td>\n",
       "      <td>BK40</td>\n",
       "      <td>Windsor Terrace</td>\n",
       "      <td>1.404167e+07</td>\n",
       "      <td>19033.672066</td>\n",
       "      <td>POLYGON ((-73.98017 40.66115, -73.98021 40.661...</td>\n",
       "    </tr>\n",
       "    <tr>\n",
       "      <th>4</th>\n",
       "      <td>3.0</td>\n",
       "      <td>Brooklyn</td>\n",
       "      <td>047</td>\n",
       "      <td>BK50</td>\n",
       "      <td>Canarsie</td>\n",
       "      <td>8.208968e+07</td>\n",
       "      <td>43703.609666</td>\n",
       "      <td>MULTIPOLYGON (((-73.88834 40.64671, -73.88835 ...</td>\n",
       "    </tr>\n",
       "  </tbody>\n",
       "</table>\n",
       "</div>"
      ],
      "text/plain": [
       "   boro_code boro_name county_fip ntacode                ntaname   \n",
       "0        4.0    Queens        081    QN08             St. Albans  \\\n",
       "1        2.0     Bronx        005    BX28  Van Cortlandt Village   \n",
       "2        4.0    Queens        081    QN55       South Ozone Park   \n",
       "3        3.0  Brooklyn        047    BK40        Windsor Terrace   \n",
       "4        3.0  Brooklyn        047    BK50               Canarsie   \n",
       "\n",
       "     shape_area    shape_leng   \n",
       "0  7.741275e+07  45401.316803  \\\n",
       "1  2.566612e+07  21945.719299   \n",
       "2  8.246139e+07  36708.169305   \n",
       "3  1.404167e+07  19033.672066   \n",
       "4  8.208968e+07  43703.609666   \n",
       "\n",
       "                                            geometry  \n",
       "0  POLYGON ((-73.75205 40.70523, -73.75174 40.704...  \n",
       "1  POLYGON ((-73.88705 40.88435, -73.88705 40.884...  \n",
       "2  POLYGON ((-73.80577 40.68293, -73.80552 40.682...  \n",
       "3  POLYGON ((-73.98017 40.66115, -73.98021 40.661...  \n",
       "4  MULTIPOLYGON (((-73.88834 40.64671, -73.88835 ...  "
      ]
     },
     "execution_count": 24,
     "metadata": {},
     "output_type": "execute_result"
    }
   ],
   "source": [
    "#open nta \n",
    "nta = gpd.read_file('../Data/nta_2010/geo_export_d66993ca-6cc0-4ee0-9b66-052e7675b5f0.shp')\n",
    "nta = nta.to_crs(4326)\n",
    "nta.head()"
   ]
  },
  {
   "cell_type": "code",
   "execution_count": 25,
   "id": "0116eab0-cb63-4c38-a69b-07deda651960",
   "metadata": {},
   "outputs": [
    {
     "data": {
      "text/plain": [
       "<Geographic 2D CRS: EPSG:4326>\n",
       "Name: WGS 84\n",
       "Axis Info [ellipsoidal]:\n",
       "- Lat[north]: Geodetic latitude (degree)\n",
       "- Lon[east]: Geodetic longitude (degree)\n",
       "Area of Use:\n",
       "- name: World.\n",
       "- bounds: (-180.0, -90.0, 180.0, 90.0)\n",
       "Datum: World Geodetic System 1984 ensemble\n",
       "- Ellipsoid: WGS 84\n",
       "- Prime Meridian: Greenwich"
      ]
     },
     "execution_count": 25,
     "metadata": {},
     "output_type": "execute_result"
    }
   ],
   "source": [
    "#check crs\n",
    "nta.crs"
   ]
  },
  {
   "cell_type": "code",
   "execution_count": 26,
   "id": "ddf024e6-a1f6-4c54-99cb-d5e3256d45fb",
   "metadata": {},
   "outputs": [
    {
     "data": {
      "text/html": [
       "<div>\n",
       "<style scoped>\n",
       "    .dataframe tbody tr th:only-of-type {\n",
       "        vertical-align: middle;\n",
       "    }\n",
       "\n",
       "    .dataframe tbody tr th {\n",
       "        vertical-align: top;\n",
       "    }\n",
       "\n",
       "    .dataframe thead th {\n",
       "        text-align: right;\n",
       "    }\n",
       "</style>\n",
       "<table border=\"1\" class=\"dataframe\">\n",
       "  <thead>\n",
       "    <tr style=\"text-align: right;\">\n",
       "      <th></th>\n",
       "      <th>bbl</th>\n",
       "      <th>latitude</th>\n",
       "      <th>longitude</th>\n",
       "      <th>geometry</th>\n",
       "      <th>in_fz</th>\n",
       "      <th>index_right</th>\n",
       "      <th>boro_code</th>\n",
       "      <th>boro_name</th>\n",
       "      <th>county_fip</th>\n",
       "      <th>ntacode</th>\n",
       "      <th>ntaname</th>\n",
       "      <th>shape_area</th>\n",
       "      <th>shape_leng</th>\n",
       "    </tr>\n",
       "  </thead>\n",
       "  <tbody>\n",
       "    <tr>\n",
       "      <th>0</th>\n",
       "      <td>3018090016.00000000</td>\n",
       "      <td>40.6871961</td>\n",
       "      <td>-73.9465987</td>\n",
       "      <td>POINT (-73.94660 40.68720)</td>\n",
       "      <td>0</td>\n",
       "      <td>18</td>\n",
       "      <td>3.0</td>\n",
       "      <td>Brooklyn</td>\n",
       "      <td>047</td>\n",
       "      <td>BK75</td>\n",
       "      <td>Bedford</td>\n",
       "      <td>3.262979e+07</td>\n",
       "      <td>29992.924096</td>\n",
       "    </tr>\n",
       "    <tr>\n",
       "      <th>3</th>\n",
       "      <td>3018520037.00000000</td>\n",
       "      <td>40.6818274</td>\n",
       "      <td>-73.9413030</td>\n",
       "      <td>POINT (-73.94130 40.68183)</td>\n",
       "      <td>0</td>\n",
       "      <td>18</td>\n",
       "      <td>3.0</td>\n",
       "      <td>Brooklyn</td>\n",
       "      <td>047</td>\n",
       "      <td>BK75</td>\n",
       "      <td>Bedford</td>\n",
       "      <td>3.262979e+07</td>\n",
       "      <td>29992.924096</td>\n",
       "    </tr>\n",
       "    <tr>\n",
       "      <th>12</th>\n",
       "      <td>3018140073.00000000</td>\n",
       "      <td>40.6860984</td>\n",
       "      <td>-73.9471080</td>\n",
       "      <td>POINT (-73.94711 40.68610)</td>\n",
       "      <td>0</td>\n",
       "      <td>18</td>\n",
       "      <td>3.0</td>\n",
       "      <td>Brooklyn</td>\n",
       "      <td>047</td>\n",
       "      <td>BK75</td>\n",
       "      <td>Bedford</td>\n",
       "      <td>3.262979e+07</td>\n",
       "      <td>29992.924096</td>\n",
       "    </tr>\n",
       "    <tr>\n",
       "      <th>13</th>\n",
       "      <td>3018190050.00000000</td>\n",
       "      <td>40.6855730</td>\n",
       "      <td>-73.9446313</td>\n",
       "      <td>POINT (-73.94463 40.68557)</td>\n",
       "      <td>0</td>\n",
       "      <td>18</td>\n",
       "      <td>3.0</td>\n",
       "      <td>Brooklyn</td>\n",
       "      <td>047</td>\n",
       "      <td>BK75</td>\n",
       "      <td>Bedford</td>\n",
       "      <td>3.262979e+07</td>\n",
       "      <td>29992.924096</td>\n",
       "    </tr>\n",
       "    <tr>\n",
       "      <th>14</th>\n",
       "      <td>3018190003.00000000</td>\n",
       "      <td>40.6853764</td>\n",
       "      <td>-73.9469138</td>\n",
       "      <td>POINT (-73.94691 40.68538)</td>\n",
       "      <td>0</td>\n",
       "      <td>18</td>\n",
       "      <td>3.0</td>\n",
       "      <td>Brooklyn</td>\n",
       "      <td>047</td>\n",
       "      <td>BK75</td>\n",
       "      <td>Bedford</td>\n",
       "      <td>3.262979e+07</td>\n",
       "      <td>29992.924096</td>\n",
       "    </tr>\n",
       "  </tbody>\n",
       "</table>\n",
       "</div>"
      ],
      "text/plain": [
       "                    bbl    latitude    longitude                    geometry   \n",
       "0   3018090016.00000000  40.6871961  -73.9465987  POINT (-73.94660 40.68720)  \\\n",
       "3   3018520037.00000000  40.6818274  -73.9413030  POINT (-73.94130 40.68183)   \n",
       "12  3018140073.00000000  40.6860984  -73.9471080  POINT (-73.94711 40.68610)   \n",
       "13  3018190050.00000000  40.6855730  -73.9446313  POINT (-73.94463 40.68557)   \n",
       "14  3018190003.00000000  40.6853764  -73.9469138  POINT (-73.94691 40.68538)   \n",
       "\n",
       "    in_fz  index_right  boro_code boro_name county_fip ntacode  ntaname   \n",
       "0       0           18        3.0  Brooklyn        047    BK75  Bedford  \\\n",
       "3       0           18        3.0  Brooklyn        047    BK75  Bedford   \n",
       "12      0           18        3.0  Brooklyn        047    BK75  Bedford   \n",
       "13      0           18        3.0  Brooklyn        047    BK75  Bedford   \n",
       "14      0           18        3.0  Brooklyn        047    BK75  Bedford   \n",
       "\n",
       "      shape_area    shape_leng  \n",
       "0   3.262979e+07  29992.924096  \n",
       "3   3.262979e+07  29992.924096  \n",
       "12  3.262979e+07  29992.924096  \n",
       "13  3.262979e+07  29992.924096  \n",
       "14  3.262979e+07  29992.924096  "
      ]
     },
     "execution_count": 26,
     "metadata": {},
     "output_type": "execute_result"
    }
   ],
   "source": [
    "#spatial join and add the nta columns to each pluto point\n",
    "pluto_nta = pluto.sjoin(nta, how='inner', predicate='intersects')\n",
    "pluto_nta.head()"
   ]
  },
  {
   "cell_type": "code",
   "execution_count": 28,
   "id": "47fd5748-9f8d-4eea-b608-70423786a9d1",
   "metadata": {},
   "outputs": [
    {
     "data": {
      "text/html": [
       "<div>\n",
       "<style scoped>\n",
       "    .dataframe tbody tr th:only-of-type {\n",
       "        vertical-align: middle;\n",
       "    }\n",
       "\n",
       "    .dataframe tbody tr th {\n",
       "        vertical-align: top;\n",
       "    }\n",
       "\n",
       "    .dataframe thead th {\n",
       "        text-align: right;\n",
       "    }\n",
       "</style>\n",
       "<table border=\"1\" class=\"dataframe\">\n",
       "  <thead>\n",
       "    <tr style=\"text-align: right;\">\n",
       "      <th></th>\n",
       "      <th>bbl</th>\n",
       "      <th>latitude</th>\n",
       "      <th>longitude</th>\n",
       "      <th>geometry</th>\n",
       "      <th>in_fz</th>\n",
       "      <th>boro_code</th>\n",
       "      <th>boro_name</th>\n",
       "      <th>county_fip</th>\n",
       "      <th>ntacode</th>\n",
       "      <th>ntaname</th>\n",
       "    </tr>\n",
       "  </thead>\n",
       "  <tbody>\n",
       "    <tr>\n",
       "      <th>0</th>\n",
       "      <td>3018090016.00000000</td>\n",
       "      <td>40.6871961</td>\n",
       "      <td>-73.9465987</td>\n",
       "      <td>POINT (-73.94660 40.68720)</td>\n",
       "      <td>0</td>\n",
       "      <td>3.0</td>\n",
       "      <td>Brooklyn</td>\n",
       "      <td>047</td>\n",
       "      <td>BK75</td>\n",
       "      <td>Bedford</td>\n",
       "    </tr>\n",
       "    <tr>\n",
       "      <th>3</th>\n",
       "      <td>3018520037.00000000</td>\n",
       "      <td>40.6818274</td>\n",
       "      <td>-73.9413030</td>\n",
       "      <td>POINT (-73.94130 40.68183)</td>\n",
       "      <td>0</td>\n",
       "      <td>3.0</td>\n",
       "      <td>Brooklyn</td>\n",
       "      <td>047</td>\n",
       "      <td>BK75</td>\n",
       "      <td>Bedford</td>\n",
       "    </tr>\n",
       "    <tr>\n",
       "      <th>12</th>\n",
       "      <td>3018140073.00000000</td>\n",
       "      <td>40.6860984</td>\n",
       "      <td>-73.9471080</td>\n",
       "      <td>POINT (-73.94711 40.68610)</td>\n",
       "      <td>0</td>\n",
       "      <td>3.0</td>\n",
       "      <td>Brooklyn</td>\n",
       "      <td>047</td>\n",
       "      <td>BK75</td>\n",
       "      <td>Bedford</td>\n",
       "    </tr>\n",
       "    <tr>\n",
       "      <th>13</th>\n",
       "      <td>3018190050.00000000</td>\n",
       "      <td>40.6855730</td>\n",
       "      <td>-73.9446313</td>\n",
       "      <td>POINT (-73.94463 40.68557)</td>\n",
       "      <td>0</td>\n",
       "      <td>3.0</td>\n",
       "      <td>Brooklyn</td>\n",
       "      <td>047</td>\n",
       "      <td>BK75</td>\n",
       "      <td>Bedford</td>\n",
       "    </tr>\n",
       "    <tr>\n",
       "      <th>14</th>\n",
       "      <td>3018190003.00000000</td>\n",
       "      <td>40.6853764</td>\n",
       "      <td>-73.9469138</td>\n",
       "      <td>POINT (-73.94691 40.68538)</td>\n",
       "      <td>0</td>\n",
       "      <td>3.0</td>\n",
       "      <td>Brooklyn</td>\n",
       "      <td>047</td>\n",
       "      <td>BK75</td>\n",
       "      <td>Bedford</td>\n",
       "    </tr>\n",
       "  </tbody>\n",
       "</table>\n",
       "</div>"
      ],
      "text/plain": [
       "                    bbl    latitude    longitude                    geometry   \n",
       "0   3018090016.00000000  40.6871961  -73.9465987  POINT (-73.94660 40.68720)  \\\n",
       "3   3018520037.00000000  40.6818274  -73.9413030  POINT (-73.94130 40.68183)   \n",
       "12  3018140073.00000000  40.6860984  -73.9471080  POINT (-73.94711 40.68610)   \n",
       "13  3018190050.00000000  40.6855730  -73.9446313  POINT (-73.94463 40.68557)   \n",
       "14  3018190003.00000000  40.6853764  -73.9469138  POINT (-73.94691 40.68538)   \n",
       "\n",
       "    in_fz  boro_code boro_name county_fip ntacode  ntaname  \n",
       "0       0        3.0  Brooklyn        047    BK75  Bedford  \n",
       "3       0        3.0  Brooklyn        047    BK75  Bedford  \n",
       "12      0        3.0  Brooklyn        047    BK75  Bedford  \n",
       "13      0        3.0  Brooklyn        047    BK75  Bedford  \n",
       "14      0        3.0  Brooklyn        047    BK75  Bedford  "
      ]
     },
     "execution_count": 28,
     "metadata": {},
     "output_type": "execute_result"
    }
   ],
   "source": [
    "pluto_nta = pluto_nta.iloc[:, [0,1,2,3,4,6,7,8,9,10]]\n",
    "pluto_nta.head()"
   ]
  },
  {
   "cell_type": "code",
   "execution_count": 29,
   "id": "9458d9df-a31c-4170-bb2a-e6bbc0186cfd",
   "metadata": {},
   "outputs": [
    {
     "data": {
      "text/plain": [
       "bbl           0\n",
       "latitude      0\n",
       "longitude     0\n",
       "geometry      0\n",
       "in_fz         0\n",
       "boro_code     0\n",
       "boro_name     0\n",
       "county_fip    0\n",
       "ntacode       0\n",
       "ntaname       0\n",
       "dtype: int64"
      ]
     },
     "execution_count": 29,
     "metadata": {},
     "output_type": "execute_result"
    }
   ],
   "source": [
    "pluto_nta.isna().sum()"
   ]
  },
  {
   "cell_type": "code",
   "execution_count": 30,
   "id": "363807ca-233a-4547-b2c2-e84a47150694",
   "metadata": {},
   "outputs": [
    {
     "data": {
      "text/plain": [
       "857579"
      ]
     },
     "execution_count": 30,
     "metadata": {},
     "output_type": "execute_result"
    }
   ],
   "source": [
    "len(pluto)"
   ]
  },
  {
   "cell_type": "code",
   "execution_count": 31,
   "id": "57edaee2-7e21-4fbf-9652-df18dcf2b38b",
   "metadata": {},
   "outputs": [
    {
     "data": {
      "text/plain": [
       "856350"
      ]
     },
     "execution_count": 31,
     "metadata": {},
     "output_type": "execute_result"
    }
   ],
   "source": [
    "len(pluto_nta)"
   ]
  },
  {
   "cell_type": "markdown",
   "id": "edc4f4ec-6a5c-44f7-b6c1-f96c983b2ca7",
   "metadata": {},
   "source": [
    "It seems that some of the pluto points didn't have an nta..."
   ]
  },
  {
   "cell_type": "code",
   "execution_count": 32,
   "id": "c608be84-b79d-43fb-84f2-adba3d7ab55f",
   "metadata": {},
   "outputs": [],
   "source": [
    "#save the spatial join result\n",
    "pluto_nta.to_file('../Data/pluto_flood_nta/pluto_flood_nta.shp')"
   ]
  },
  {
   "cell_type": "code",
   "execution_count": 33,
   "id": "9e0b02b0-aaca-42e3-85ec-054e8658830f",
   "metadata": {},
   "outputs": [],
   "source": [
    "#save as csv\n",
    "pluto_nta.to_csv('../Data/pluto_flood_nta.csv', index=False)"
   ]
  }
 ],
 "metadata": {
  "kernelspec": {
   "display_name": "geo_env",
   "language": "python",
   "name": "geo_env"
  },
  "language_info": {
   "codemirror_mode": {
    "name": "ipython",
    "version": 3
   },
   "file_extension": ".py",
   "mimetype": "text/x-python",
   "name": "python",
   "nbconvert_exporter": "python",
   "pygments_lexer": "ipython3",
   "version": "3.9.16"
  }
 },
 "nbformat": 4,
 "nbformat_minor": 5
}
