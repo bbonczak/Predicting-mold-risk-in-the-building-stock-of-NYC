{
 "cells": [
  {
   "cell_type": "code",
   "execution_count": 1,
   "id": "8268e500-2025-43a5-991d-d3c4a71578d8",
   "metadata": {},
   "outputs": [],
   "source": [
    "import geopandas as gpd\n",
    "import pandas as pd\n",
    "import numpy as np\n",
    "from matplotlib import pyplot as plt\n",
    "from sodapy import Socrata\n",
    "from urllib.request import urlopen\n",
    "import json"
   ]
  },
  {
   "cell_type": "markdown",
   "id": "ae459117-38b9-4b56-823e-59d0331559fe",
   "metadata": {},
   "source": [
    "#### Load PLUO data"
   ]
  },
  {
   "cell_type": "code",
   "execution_count": 2,
   "id": "4137afe7-0447-4b5a-b47a-f8854ec79b11",
   "metadata": {},
   "outputs": [
    {
     "name": "stderr",
     "output_type": "stream",
     "text": [
      "WARNING:root:Requests made without an app_token will be subject to strict throttling limits.\n"
     ]
    }
   ],
   "source": [
    "# setup Socrata client, in this example we use generic, unauthenticated account\n",
    "client = Socrata(\"data.cityofnewyork.us\", None)\n",
    "dataset_id = \"64uk-42ks\"\n",
    "\n",
    "# Obtain the dataset as JSON from API by sodapy.\n",
    "data = client.get(dataset_id, limit=900000, select='bbl, latitude, longitude') # from data description we know the data has 859K rows\n",
    "# data = client.get(dataset_id, limit=30000, select=\"property_id, nyc_borough_block_and_lot_bbl\") # select specific columns only\n",
    "\n",
    "# Convert results to pandas DataFrame\n",
    "pluto_df = pd.DataFrame.from_records(data)"
   ]
  },
  {
   "cell_type": "code",
   "execution_count": 3,
   "id": "b79a35b9-8c4d-40d3-aea5-178b58f2e124",
   "metadata": {},
   "outputs": [
    {
     "data": {
      "text/html": [
       "<div>\n",
       "<style scoped>\n",
       "    .dataframe tbody tr th:only-of-type {\n",
       "        vertical-align: middle;\n",
       "    }\n",
       "\n",
       "    .dataframe tbody tr th {\n",
       "        vertical-align: top;\n",
       "    }\n",
       "\n",
       "    .dataframe thead th {\n",
       "        text-align: right;\n",
       "    }\n",
       "</style>\n",
       "<table border=\"1\" class=\"dataframe\">\n",
       "  <thead>\n",
       "    <tr style=\"text-align: right;\">\n",
       "      <th></th>\n",
       "      <th>bbl</th>\n",
       "      <th>latitude</th>\n",
       "      <th>longitude</th>\n",
       "    </tr>\n",
       "  </thead>\n",
       "  <tbody>\n",
       "    <tr>\n",
       "      <th>0</th>\n",
       "      <td>3018090016.00000000</td>\n",
       "      <td>40.6871961</td>\n",
       "      <td>-73.9465987</td>\n",
       "    </tr>\n",
       "    <tr>\n",
       "      <th>1</th>\n",
       "      <td>3061830033.00000000</td>\n",
       "      <td>40.6145950</td>\n",
       "      <td>-73.9922993</td>\n",
       "    </tr>\n",
       "    <tr>\n",
       "      <th>2</th>\n",
       "      <td>3062060022.00000000</td>\n",
       "      <td>40.6125007</td>\n",
       "      <td>-73.9918421</td>\n",
       "    </tr>\n",
       "    <tr>\n",
       "      <th>3</th>\n",
       "      <td>3018520037.00000000</td>\n",
       "      <td>40.6818274</td>\n",
       "      <td>-73.9413030</td>\n",
       "    </tr>\n",
       "    <tr>\n",
       "      <th>4</th>\n",
       "      <td>3058930008.00000000</td>\n",
       "      <td>40.6320474</td>\n",
       "      <td>-74.0212816</td>\n",
       "    </tr>\n",
       "  </tbody>\n",
       "</table>\n",
       "</div>"
      ],
      "text/plain": [
       "                   bbl    latitude    longitude\n",
       "0  3018090016.00000000  40.6871961  -73.9465987\n",
       "1  3061830033.00000000  40.6145950  -73.9922993\n",
       "2  3062060022.00000000  40.6125007  -73.9918421\n",
       "3  3018520037.00000000  40.6818274  -73.9413030\n",
       "4  3058930008.00000000  40.6320474  -74.0212816"
      ]
     },
     "execution_count": 3,
     "metadata": {},
     "output_type": "execute_result"
    }
   ],
   "source": [
    "pluto_df.head()"
   ]
  },
  {
   "cell_type": "code",
   "execution_count": 4,
   "id": "6471a493-2f79-4c8e-974a-238e5c524a8e",
   "metadata": {},
   "outputs": [],
   "source": [
    "#geo dataframe\n",
    "#points\n",
    "pluto_gdf = gpd.GeoDataFrame(pluto_df, geometry=gpd.points_from_xy(pluto_df.longitude, pluto_df.latitude))"
   ]
  },
  {
   "cell_type": "code",
   "execution_count": 5,
   "id": "b1e61f8a-db04-47aa-a15a-4d8e15c76f8c",
   "metadata": {},
   "outputs": [
    {
     "data": {
      "text/html": [
       "<div>\n",
       "<style scoped>\n",
       "    .dataframe tbody tr th:only-of-type {\n",
       "        vertical-align: middle;\n",
       "    }\n",
       "\n",
       "    .dataframe tbody tr th {\n",
       "        vertical-align: top;\n",
       "    }\n",
       "\n",
       "    .dataframe thead th {\n",
       "        text-align: right;\n",
       "    }\n",
       "</style>\n",
       "<table border=\"1\" class=\"dataframe\">\n",
       "  <thead>\n",
       "    <tr style=\"text-align: right;\">\n",
       "      <th></th>\n",
       "      <th>bbl</th>\n",
       "      <th>latitude</th>\n",
       "      <th>longitude</th>\n",
       "      <th>geometry</th>\n",
       "    </tr>\n",
       "  </thead>\n",
       "  <tbody>\n",
       "    <tr>\n",
       "      <th>0</th>\n",
       "      <td>3018090016.00000000</td>\n",
       "      <td>40.6871961</td>\n",
       "      <td>-73.9465987</td>\n",
       "      <td>POINT (-73.94660 40.68720)</td>\n",
       "    </tr>\n",
       "    <tr>\n",
       "      <th>1</th>\n",
       "      <td>3061830033.00000000</td>\n",
       "      <td>40.6145950</td>\n",
       "      <td>-73.9922993</td>\n",
       "      <td>POINT (-73.99230 40.61460)</td>\n",
       "    </tr>\n",
       "    <tr>\n",
       "      <th>2</th>\n",
       "      <td>3062060022.00000000</td>\n",
       "      <td>40.6125007</td>\n",
       "      <td>-73.9918421</td>\n",
       "      <td>POINT (-73.99184 40.61250)</td>\n",
       "    </tr>\n",
       "    <tr>\n",
       "      <th>3</th>\n",
       "      <td>3018520037.00000000</td>\n",
       "      <td>40.6818274</td>\n",
       "      <td>-73.9413030</td>\n",
       "      <td>POINT (-73.94130 40.68183)</td>\n",
       "    </tr>\n",
       "    <tr>\n",
       "      <th>4</th>\n",
       "      <td>3058930008.00000000</td>\n",
       "      <td>40.6320474</td>\n",
       "      <td>-74.0212816</td>\n",
       "      <td>POINT (-74.02128 40.63205)</td>\n",
       "    </tr>\n",
       "  </tbody>\n",
       "</table>\n",
       "</div>"
      ],
      "text/plain": [
       "                   bbl    latitude    longitude                    geometry\n",
       "0  3018090016.00000000  40.6871961  -73.9465987  POINT (-73.94660 40.68720)\n",
       "1  3061830033.00000000  40.6145950  -73.9922993  POINT (-73.99230 40.61460)\n",
       "2  3062060022.00000000  40.6125007  -73.9918421  POINT (-73.99184 40.61250)\n",
       "3  3018520037.00000000  40.6818274  -73.9413030  POINT (-73.94130 40.68183)\n",
       "4  3058930008.00000000  40.6320474  -74.0212816  POINT (-74.02128 40.63205)"
      ]
     },
     "execution_count": 5,
     "metadata": {},
     "output_type": "execute_result"
    }
   ],
   "source": [
    "pluto_gdf.head()"
   ]
  },
  {
   "cell_type": "code",
   "execution_count": 6,
   "id": "095d2b43-b4ce-4323-950a-394feeff793c",
   "metadata": {},
   "outputs": [],
   "source": [
    "pluto_gdf = pluto_gdf.set_crs(4326)"
   ]
  },
  {
   "cell_type": "code",
   "execution_count": 7,
   "id": "2635400b-1ff1-4af5-825e-4361b103a561",
   "metadata": {},
   "outputs": [
    {
     "data": {
      "text/plain": [
       "858619"
      ]
     },
     "execution_count": 7,
     "metadata": {},
     "output_type": "execute_result"
    }
   ],
   "source": [
    "#sanity check\n",
    "len(pluto_gdf)"
   ]
  },
  {
   "cell_type": "code",
   "execution_count": 8,
   "id": "9f4e5bbe-4ae1-4de9-a2b8-08e36bca63f4",
   "metadata": {},
   "outputs": [
    {
     "data": {
      "text/plain": [
       "858619"
      ]
     },
     "execution_count": 8,
     "metadata": {},
     "output_type": "execute_result"
    }
   ],
   "source": [
    "#sanity check\n",
    "#bbl should be the unique identifier\n",
    "len(pluto_gdf['bbl'].unique())"
   ]
  },
  {
   "cell_type": "markdown",
   "id": "3002c6c4-c7c7-4a7e-a56d-9dc6b4bc8010",
   "metadata": {},
   "source": [
    "#### Load floodplain data"
   ]
  },
  {
   "cell_type": "code",
   "execution_count": 9,
   "id": "45647eaa-3f27-4423-b045-5e54d9fa10c1",
   "metadata": {},
   "outputs": [],
   "source": [
    "#floodplain\n",
    "fp_500 = gpd.read_file('../Data/fp_500yr/geo_export_f9627ca8-5409-4bf4-9e1c-e812fdb2e4d7.shp')\n",
    "fp_500 = fp_500.set_crs(4326, allow_override=True)"
   ]
  },
  {
   "cell_type": "code",
   "execution_count": 10,
   "id": "8038c703-5426-48e5-b340-15569a425585",
   "metadata": {},
   "outputs": [
    {
     "data": {
      "text/html": [
       "<div>\n",
       "<style scoped>\n",
       "    .dataframe tbody tr th:only-of-type {\n",
       "        vertical-align: middle;\n",
       "    }\n",
       "\n",
       "    .dataframe tbody tr th {\n",
       "        vertical-align: top;\n",
       "    }\n",
       "\n",
       "    .dataframe thead th {\n",
       "        text-align: right;\n",
       "    }\n",
       "</style>\n",
       "<table border=\"1\" class=\"dataframe\">\n",
       "  <thead>\n",
       "    <tr style=\"text-align: right;\">\n",
       "      <th></th>\n",
       "      <th>abfe_0_2pc</th>\n",
       "      <th>fld_zone</th>\n",
       "      <th>gridcode</th>\n",
       "      <th>join_count</th>\n",
       "      <th>shape_area</th>\n",
       "      <th>shape_leng</th>\n",
       "      <th>static_bfe</th>\n",
       "      <th>geometry</th>\n",
       "    </tr>\n",
       "  </thead>\n",
       "  <tbody>\n",
       "    <tr>\n",
       "      <th>0</th>\n",
       "      <td>0.0</td>\n",
       "      <td>None</td>\n",
       "      <td>1500.0</td>\n",
       "      <td>0.0</td>\n",
       "      <td>0.0</td>\n",
       "      <td>0.0</td>\n",
       "      <td>0.0</td>\n",
       "      <td>POLYGON ((-73.90993 40.91517, -73.91010 40.915...</td>\n",
       "    </tr>\n",
       "    <tr>\n",
       "      <th>1</th>\n",
       "      <td>0.0</td>\n",
       "      <td>None</td>\n",
       "      <td>1300.0</td>\n",
       "      <td>0.0</td>\n",
       "      <td>0.0</td>\n",
       "      <td>0.0</td>\n",
       "      <td>0.0</td>\n",
       "      <td>POLYGON ((-73.88825 40.89957, -73.88801 40.899...</td>\n",
       "    </tr>\n",
       "    <tr>\n",
       "      <th>2</th>\n",
       "      <td>0.0</td>\n",
       "      <td>None</td>\n",
       "      <td>1300.0</td>\n",
       "      <td>0.0</td>\n",
       "      <td>0.0</td>\n",
       "      <td>0.0</td>\n",
       "      <td>0.0</td>\n",
       "      <td>POLYGON ((-73.88852 40.89902, -73.88846 40.899...</td>\n",
       "    </tr>\n",
       "    <tr>\n",
       "      <th>3</th>\n",
       "      <td>0.0</td>\n",
       "      <td>None</td>\n",
       "      <td>1300.0</td>\n",
       "      <td>0.0</td>\n",
       "      <td>0.0</td>\n",
       "      <td>0.0</td>\n",
       "      <td>0.0</td>\n",
       "      <td>POLYGON ((-73.88861 40.89875, -73.88861 40.899...</td>\n",
       "    </tr>\n",
       "    <tr>\n",
       "      <th>4</th>\n",
       "      <td>0.0</td>\n",
       "      <td>None</td>\n",
       "      <td>1300.0</td>\n",
       "      <td>0.0</td>\n",
       "      <td>0.0</td>\n",
       "      <td>0.0</td>\n",
       "      <td>0.0</td>\n",
       "      <td>POLYGON ((-73.88861 40.89861, -73.88874 40.898...</td>\n",
       "    </tr>\n",
       "  </tbody>\n",
       "</table>\n",
       "</div>"
      ],
      "text/plain": [
       "   abfe_0_2pc fld_zone  gridcode  join_count  shape_area  shape_leng  \\\n",
       "0         0.0     None    1500.0         0.0         0.0         0.0   \n",
       "1         0.0     None    1300.0         0.0         0.0         0.0   \n",
       "2         0.0     None    1300.0         0.0         0.0         0.0   \n",
       "3         0.0     None    1300.0         0.0         0.0         0.0   \n",
       "4         0.0     None    1300.0         0.0         0.0         0.0   \n",
       "\n",
       "   static_bfe                                           geometry  \n",
       "0         0.0  POLYGON ((-73.90993 40.91517, -73.91010 40.915...  \n",
       "1         0.0  POLYGON ((-73.88825 40.89957, -73.88801 40.899...  \n",
       "2         0.0  POLYGON ((-73.88852 40.89902, -73.88846 40.899...  \n",
       "3         0.0  POLYGON ((-73.88861 40.89875, -73.88861 40.899...  \n",
       "4         0.0  POLYGON ((-73.88861 40.89861, -73.88874 40.898...  "
      ]
     },
     "execution_count": 10,
     "metadata": {},
     "output_type": "execute_result"
    }
   ],
   "source": [
    "fp_500.head()"
   ]
  },
  {
   "cell_type": "code",
   "execution_count": 11,
   "id": "c8802c6b-1c43-4ec4-a7f7-bf4c1f2af810",
   "metadata": {},
   "outputs": [
    {
     "data": {
      "text/plain": [
       "<AxesSubplot:>"
      ]
     },
     "execution_count": 11,
     "metadata": {},
     "output_type": "execute_result"
    },
    {
     "data": {
      "image/png": "[encoded data removed]",
      "text/plain": [
       "<Figure size 432x288 with 1 Axes>"
      ]
     },
     "metadata": {
      "needs_background": "light"
     },
     "output_type": "display_data"
    }
   ],
   "source": [
    "fp_500.plot()"
   ]
  },
  {
   "cell_type": "code",
   "execution_count": 12,
   "id": "3d0f0027-1593-43aa-b2c6-b002f4cd2c85",
   "metadata": {},
   "outputs": [
    {
     "data": {
      "text/plain": [
       "array([None, 'AE', 'VE', 'AO'], dtype=object)"
      ]
     },
     "execution_count": 12,
     "metadata": {},
     "output_type": "execute_result"
    }
   ],
   "source": [
    "fp_500['fld_zone'].unique()"
   ]
  },
  {
   "cell_type": "code",
   "execution_count": 13,
   "id": "84148425-dd28-4dda-8b51-d86780f53f67",
   "metadata": {},
   "outputs": [
    {
     "data": {
      "text/plain": [
       "<AxesSubplot:>"
      ]
     },
     "execution_count": 13,
     "metadata": {},
     "output_type": "execute_result"
    },
    {
     "data": {
      "image/png": "[encoded data removed]",
      "text/plain": [
       "<Figure size 432x288 with 1 Axes>"
      ]
     },
     "metadata": {
      "needs_background": "light"
     },
     "output_type": "display_data"
    }
   ],
   "source": [
    "#only select rows with a designated flood zone\n",
    "fp_500_z = fp_500.loc[(fp_500['fld_zone'] == 'AE') | (fp_500['fld_zone'] == 'VE') | (fp_500['fld_zone'] == 'AO')]\n",
    "fp_500_z.plot()"
   ]
  },
  {
   "cell_type": "markdown",
   "id": "0abd7edb-310a-4424-a043-88cdbba8e5b0",
   "metadata": {},
   "source": [
    "#### Use the overlay() function (https://geopandas.org/en/stable/docs/user_guide/set_operations.html) to calculate intersection of PLUTO points and floodplain polygons"
   ]
  },
  {
   "cell_type": "code",
   "execution_count": 14,
   "id": "5b2f0eca-a62a-4662-9863-162bcb8807c9",
   "metadata": {},
   "outputs": [
    {
     "name": "stdout",
     "output_type": "stream",
     "text": [
      "54777\n"
     ]
    },
    {
     "data": {
      "text/html": [
       "<div>\n",
       "<style scoped>\n",
       "    .dataframe tbody tr th:only-of-type {\n",
       "        vertical-align: middle;\n",
       "    }\n",
       "\n",
       "    .dataframe tbody tr th {\n",
       "        vertical-align: top;\n",
       "    }\n",
       "\n",
       "    .dataframe thead th {\n",
       "        text-align: right;\n",
       "    }\n",
       "</style>\n",
       "<table border=\"1\" class=\"dataframe\">\n",
       "  <thead>\n",
       "    <tr style=\"text-align: right;\">\n",
       "      <th></th>\n",
       "      <th>bbl</th>\n",
       "      <th>latitude</th>\n",
       "      <th>longitude</th>\n",
       "      <th>abfe_0_2pc</th>\n",
       "      <th>fld_zone</th>\n",
       "      <th>gridcode</th>\n",
       "      <th>join_count</th>\n",
       "      <th>shape_area</th>\n",
       "      <th>shape_leng</th>\n",
       "      <th>static_bfe</th>\n",
       "      <th>geometry</th>\n",
       "      <th>col_1</th>\n",
       "    </tr>\n",
       "  </thead>\n",
       "  <tbody>\n",
       "    <tr>\n",
       "      <th>0</th>\n",
       "      <td>3068680068.00000000</td>\n",
       "      <td>40.5959958</td>\n",
       "      <td>-73.9871882</td>\n",
       "      <td>14.0</td>\n",
       "      <td>AE</td>\n",
       "      <td>1400.0</td>\n",
       "      <td>2.0</td>\n",
       "      <td>1.075891e+07</td>\n",
       "      <td>54372.827437</td>\n",
       "      <td>10.0</td>\n",
       "      <td>POINT (-73.98719 40.59600)</td>\n",
       "      <td>1</td>\n",
       "    </tr>\n",
       "    <tr>\n",
       "      <th>1</th>\n",
       "      <td>3071610044.00000000</td>\n",
       "      <td>40.5894214</td>\n",
       "      <td>-73.9826421</td>\n",
       "      <td>14.0</td>\n",
       "      <td>AE</td>\n",
       "      <td>1400.0</td>\n",
       "      <td>2.0</td>\n",
       "      <td>1.075891e+07</td>\n",
       "      <td>54372.827437</td>\n",
       "      <td>10.0</td>\n",
       "      <td>POINT (-73.98264 40.58942)</td>\n",
       "      <td>1</td>\n",
       "    </tr>\n",
       "    <tr>\n",
       "      <th>2</th>\n",
       "      <td>3069190097.00000000</td>\n",
       "      <td>40.5855652</td>\n",
       "      <td>-73.9844576</td>\n",
       "      <td>14.0</td>\n",
       "      <td>AE</td>\n",
       "      <td>1400.0</td>\n",
       "      <td>2.0</td>\n",
       "      <td>1.075891e+07</td>\n",
       "      <td>54372.827437</td>\n",
       "      <td>10.0</td>\n",
       "      <td>POINT (-73.98446 40.58557)</td>\n",
       "      <td>1</td>\n",
       "    </tr>\n",
       "    <tr>\n",
       "      <th>3</th>\n",
       "      <td>3068660077.00000000</td>\n",
       "      <td>40.5965147</td>\n",
       "      <td>-73.9890642</td>\n",
       "      <td>14.0</td>\n",
       "      <td>AE</td>\n",
       "      <td>1400.0</td>\n",
       "      <td>2.0</td>\n",
       "      <td>1.075891e+07</td>\n",
       "      <td>54372.827437</td>\n",
       "      <td>10.0</td>\n",
       "      <td>POINT (-73.98906 40.59651)</td>\n",
       "      <td>1</td>\n",
       "    </tr>\n",
       "    <tr>\n",
       "      <th>4</th>\n",
       "      <td>3068670069.00000000</td>\n",
       "      <td>40.5961825</td>\n",
       "      <td>-73.9881640</td>\n",
       "      <td>14.0</td>\n",
       "      <td>AE</td>\n",
       "      <td>1400.0</td>\n",
       "      <td>2.0</td>\n",
       "      <td>1.075891e+07</td>\n",
       "      <td>54372.827437</td>\n",
       "      <td>10.0</td>\n",
       "      <td>POINT (-73.98816 40.59618)</td>\n",
       "      <td>1</td>\n",
       "    </tr>\n",
       "  </tbody>\n",
       "</table>\n",
       "</div>"
      ],
      "text/plain": [
       "                   bbl    latitude    longitude  abfe_0_2pc fld_zone  \\\n",
       "0  3068680068.00000000  40.5959958  -73.9871882        14.0       AE   \n",
       "1  3071610044.00000000  40.5894214  -73.9826421        14.0       AE   \n",
       "2  3069190097.00000000  40.5855652  -73.9844576        14.0       AE   \n",
       "3  3068660077.00000000  40.5965147  -73.9890642        14.0       AE   \n",
       "4  3068670069.00000000  40.5961825  -73.9881640        14.0       AE   \n",
       "\n",
       "   gridcode  join_count    shape_area    shape_leng  static_bfe  \\\n",
       "0    1400.0         2.0  1.075891e+07  54372.827437        10.0   \n",
       "1    1400.0         2.0  1.075891e+07  54372.827437        10.0   \n",
       "2    1400.0         2.0  1.075891e+07  54372.827437        10.0   \n",
       "3    1400.0         2.0  1.075891e+07  54372.827437        10.0   \n",
       "4    1400.0         2.0  1.075891e+07  54372.827437        10.0   \n",
       "\n",
       "                     geometry  col_1  \n",
       "0  POINT (-73.98719 40.59600)      1  \n",
       "1  POINT (-73.98264 40.58942)      1  \n",
       "2  POINT (-73.98446 40.58557)      1  \n",
       "3  POINT (-73.98906 40.59651)      1  \n",
       "4  POINT (-73.98816 40.59618)      1  "
      ]
     },
     "execution_count": 14,
     "metadata": {},
     "output_type": "execute_result"
    }
   ],
   "source": [
    "comb = gpd.overlay(pluto_gdf, fp_500_z, how='intersection')\n",
    "comb = comb.drop_duplicates('bbl')\n",
    "comb['col_1'] = 1\n",
    "print(len(comb))\n",
    "comb.head()"
   ]
  },
  {
   "cell_type": "code",
   "execution_count": 15,
   "id": "14065532-ba26-4bab-8b7a-7f7322c95d2f",
   "metadata": {},
   "outputs": [
    {
     "data": {
      "text/html": [
       "<div>\n",
       "<style scoped>\n",
       "    .dataframe tbody tr th:only-of-type {\n",
       "        vertical-align: middle;\n",
       "    }\n",
       "\n",
       "    .dataframe tbody tr th {\n",
       "        vertical-align: top;\n",
       "    }\n",
       "\n",
       "    .dataframe thead th {\n",
       "        text-align: right;\n",
       "    }\n",
       "</style>\n",
       "<table border=\"1\" class=\"dataframe\">\n",
       "  <thead>\n",
       "    <tr style=\"text-align: right;\">\n",
       "      <th></th>\n",
       "      <th>bbl</th>\n",
       "      <th>latitude</th>\n",
       "      <th>longitude</th>\n",
       "      <th>geometry</th>\n",
       "      <th>col_1</th>\n",
       "    </tr>\n",
       "  </thead>\n",
       "  <tbody>\n",
       "    <tr>\n",
       "      <th>0</th>\n",
       "      <td>3018090016.00000000</td>\n",
       "      <td>40.6871961</td>\n",
       "      <td>-73.9465987</td>\n",
       "      <td>POINT (-73.94660 40.68720)</td>\n",
       "      <td>NaN</td>\n",
       "    </tr>\n",
       "    <tr>\n",
       "      <th>1</th>\n",
       "      <td>3061830033.00000000</td>\n",
       "      <td>40.6145950</td>\n",
       "      <td>-73.9922993</td>\n",
       "      <td>POINT (-73.99230 40.61460)</td>\n",
       "      <td>NaN</td>\n",
       "    </tr>\n",
       "    <tr>\n",
       "      <th>2</th>\n",
       "      <td>3062060022.00000000</td>\n",
       "      <td>40.6125007</td>\n",
       "      <td>-73.9918421</td>\n",
       "      <td>POINT (-73.99184 40.61250)</td>\n",
       "      <td>NaN</td>\n",
       "    </tr>\n",
       "    <tr>\n",
       "      <th>3</th>\n",
       "      <td>3018520037.00000000</td>\n",
       "      <td>40.6818274</td>\n",
       "      <td>-73.9413030</td>\n",
       "      <td>POINT (-73.94130 40.68183)</td>\n",
       "      <td>NaN</td>\n",
       "    </tr>\n",
       "    <tr>\n",
       "      <th>4</th>\n",
       "      <td>3058930008.00000000</td>\n",
       "      <td>40.6320474</td>\n",
       "      <td>-74.0212816</td>\n",
       "      <td>POINT (-74.02128 40.63205)</td>\n",
       "      <td>NaN</td>\n",
       "    </tr>\n",
       "  </tbody>\n",
       "</table>\n",
       "</div>"
      ],
      "text/plain": [
       "                   bbl    latitude    longitude                    geometry  \\\n",
       "0  3018090016.00000000  40.6871961  -73.9465987  POINT (-73.94660 40.68720)   \n",
       "1  3061830033.00000000  40.6145950  -73.9922993  POINT (-73.99230 40.61460)   \n",
       "2  3062060022.00000000  40.6125007  -73.9918421  POINT (-73.99184 40.61250)   \n",
       "3  3018520037.00000000  40.6818274  -73.9413030  POINT (-73.94130 40.68183)   \n",
       "4  3058930008.00000000  40.6320474  -74.0212816  POINT (-74.02128 40.63205)   \n",
       "\n",
       "   col_1  \n",
       "0    NaN  \n",
       "1    NaN  \n",
       "2    NaN  \n",
       "3    NaN  \n",
       "4    NaN  "
      ]
     },
     "execution_count": 15,
     "metadata": {},
     "output_type": "execute_result"
    }
   ],
   "source": [
    "#use the bbl column to join back to original pluto_gdf\n",
    "df1 = pluto_gdf.merge(comb[['bbl', 'col_1']], how = 'left',\n",
    "                left_on = 'bbl', right_on = 'bbl')\n",
    "df1 = df1.drop_duplicates('bbl', keep='first')\n",
    "df1.head()"
   ]
  },
  {
   "cell_type": "code",
   "execution_count": 16,
   "id": "4075d131-6db9-4f1f-8cfe-b93b9d1d36bd",
   "metadata": {},
   "outputs": [
    {
     "name": "stdout",
     "output_type": "stream",
     "text": [
      "(858619, 5)\n",
      "54777\n",
      "803842\n"
     ]
    }
   ],
   "source": [
    "#sanity check\n",
    "print(df1.shape)\n",
    "print(df1['col_1'].notna().sum())\n",
    "print(df1['col_1'].isna().sum())"
   ]
  },
  {
   "cell_type": "code",
   "execution_count": 17,
   "id": "e5ae157b-0f68-461c-b960-05508fc902a5",
   "metadata": {},
   "outputs": [
    {
     "data": {
      "text/html": [
       "<div>\n",
       "<style scoped>\n",
       "    .dataframe tbody tr th:only-of-type {\n",
       "        vertical-align: middle;\n",
       "    }\n",
       "\n",
       "    .dataframe tbody tr th {\n",
       "        vertical-align: top;\n",
       "    }\n",
       "\n",
       "    .dataframe thead th {\n",
       "        text-align: right;\n",
       "    }\n",
       "</style>\n",
       "<table border=\"1\" class=\"dataframe\">\n",
       "  <thead>\n",
       "    <tr style=\"text-align: right;\">\n",
       "      <th></th>\n",
       "      <th>bbl</th>\n",
       "      <th>latitude</th>\n",
       "      <th>longitude</th>\n",
       "      <th>geometry</th>\n",
       "      <th>in_fz</th>\n",
       "    </tr>\n",
       "  </thead>\n",
       "  <tbody>\n",
       "    <tr>\n",
       "      <th>0</th>\n",
       "      <td>3018090016.00000000</td>\n",
       "      <td>40.6871961</td>\n",
       "      <td>-73.9465987</td>\n",
       "      <td>POINT (-73.94660 40.68720)</td>\n",
       "      <td>0</td>\n",
       "    </tr>\n",
       "    <tr>\n",
       "      <th>1</th>\n",
       "      <td>3061830033.00000000</td>\n",
       "      <td>40.6145950</td>\n",
       "      <td>-73.9922993</td>\n",
       "      <td>POINT (-73.99230 40.61460)</td>\n",
       "      <td>0</td>\n",
       "    </tr>\n",
       "    <tr>\n",
       "      <th>2</th>\n",
       "      <td>3062060022.00000000</td>\n",
       "      <td>40.6125007</td>\n",
       "      <td>-73.9918421</td>\n",
       "      <td>POINT (-73.99184 40.61250)</td>\n",
       "      <td>0</td>\n",
       "    </tr>\n",
       "    <tr>\n",
       "      <th>3</th>\n",
       "      <td>3018520037.00000000</td>\n",
       "      <td>40.6818274</td>\n",
       "      <td>-73.9413030</td>\n",
       "      <td>POINT (-73.94130 40.68183)</td>\n",
       "      <td>0</td>\n",
       "    </tr>\n",
       "    <tr>\n",
       "      <th>4</th>\n",
       "      <td>3058930008.00000000</td>\n",
       "      <td>40.6320474</td>\n",
       "      <td>-74.0212816</td>\n",
       "      <td>POINT (-74.02128 40.63205)</td>\n",
       "      <td>0</td>\n",
       "    </tr>\n",
       "  </tbody>\n",
       "</table>\n",
       "</div>"
      ],
      "text/plain": [
       "                   bbl    latitude    longitude                    geometry  \\\n",
       "0  3018090016.00000000  40.6871961  -73.9465987  POINT (-73.94660 40.68720)   \n",
       "1  3061830033.00000000  40.6145950  -73.9922993  POINT (-73.99230 40.61460)   \n",
       "2  3062060022.00000000  40.6125007  -73.9918421  POINT (-73.99184 40.61250)   \n",
       "3  3018520037.00000000  40.6818274  -73.9413030  POINT (-73.94130 40.68183)   \n",
       "4  3058930008.00000000  40.6320474  -74.0212816  POINT (-74.02128 40.63205)   \n",
       "\n",
       "   in_fz  \n",
       "0      0  \n",
       "1      0  \n",
       "2      0  \n",
       "3      0  \n",
       "4      0  "
      ]
     },
     "execution_count": 17,
     "metadata": {},
     "output_type": "execute_result"
    }
   ],
   "source": [
    "#in_fz column: 0 not in flood zone; 1 in flood zone\n",
    "df1['col_1'] = df1['col_1'].replace(np.nan, 0)\n",
    "df1 = df1.rename(columns={'col_1': 'in_fz'})\n",
    "df1['in_fz'] = df1['in_fz'].astype(int)\n",
    "df1.head()"
   ]
  },
  {
   "cell_type": "code",
   "execution_count": 19,
   "id": "7489bed5-fc99-4873-954f-89eae18f25fe",
   "metadata": {},
   "outputs": [
    {
     "name": "stdout",
     "output_type": "stream",
     "text": [
      "858619\n"
     ]
    }
   ],
   "source": [
    "print(df1['in_fz'].notna().sum())"
   ]
  },
  {
   "cell_type": "code",
   "execution_count": 22,
   "id": "9cfe4c61-0f48-4856-9cd3-9d31d51832ae",
   "metadata": {},
   "outputs": [
    {
     "name": "stderr",
     "output_type": "stream",
     "text": [
      "C:\\Users\\mengk\\anaconda3\\envs\\geo_test\\lib\\site-packages\\geopandas\\io\\file.py:362: FutureWarning: pandas.Int64Index is deprecated and will be removed from pandas in a future version. Use pandas.Index with the appropriate dtype instead.\n",
      "  pd.Int64Index,\n"
     ]
    }
   ],
   "source": [
    "#save output\n",
    "#shp\n",
    "df1.to_file('../Data/pluto_floodplain/pluto_floodplain.shp')"
   ]
  },
  {
   "cell_type": "code",
   "execution_count": 23,
   "id": "115c6064-3985-45e7-b95f-f0bb60fa084e",
   "metadata": {},
   "outputs": [],
   "source": [
    "#csv\n",
    "df1.to_csv('../Data/pluto_floodplain.csv', index=False)"
   ]
  }
 ],
 "metadata": {
  "kernelspec": {
   "display_name": "Python [conda env:geo_test]",
   "language": "python",
   "name": "conda-env-geo_test-py"
  },
  "language_info": {
   "codemirror_mode": {
    "name": "ipython",
    "version": 3
   },
   "file_extension": ".py",
   "mimetype": "text/x-python",
   "name": "python",
   "nbconvert_exporter": "python",
   "pygments_lexer": "ipython3",
   "version": "3.9.10"
  }
 },
 "nbformat": 4,
 "nbformat_minor": 5
}
