{
 "cells": [
  {
   "cell_type": "code",
   "execution_count": 1,
   "id": "9b81a296-74b1-4ccd-83a8-a985baed97a4",
   "metadata": {},
   "outputs": [],
   "source": [
    "import pandas as pd\n",
    "import numpy as np\n",
    "from matplotlib import pyplot as plt\n",
    "import geopandas as gpd\n",
    "import re"
   ]
  },
  {
   "cell_type": "markdown",
   "id": "57133b39-caaa-40c4-aa1a-3a8534f5ae58",
   "metadata": {},
   "source": [
    "#### Adults ER visits"
   ]
  },
  {
   "cell_type": "code",
   "execution_count": 2,
   "id": "39bf0a74-e0de-4c30-a630-82861779dcb7",
   "metadata": {},
   "outputs": [
    {
     "data": {
      "text/html": [
       "<div>\n",
       "<style scoped>\n",
       "    .dataframe tbody tr th:only-of-type {\n",
       "        vertical-align: middle;\n",
       "    }\n",
       "\n",
       "    .dataframe tbody tr th {\n",
       "        vertical-align: top;\n",
       "    }\n",
       "\n",
       "    .dataframe thead th {\n",
       "        text-align: right;\n",
       "    }\n",
       "</style>\n",
       "<table border=\"1\" class=\"dataframe\">\n",
       "  <thead>\n",
       "    <tr style=\"text-align: right;\">\n",
       "      <th></th>\n",
       "      <th>Time</th>\n",
       "      <th>GeoTypeDesc</th>\n",
       "      <th>GeoID</th>\n",
       "      <th>GeoRank</th>\n",
       "      <th>Geography</th>\n",
       "      <th>Average annual age-adjusted rate per 10,000</th>\n",
       "      <th>Average annual number</th>\n",
       "      <th>Average annual rate per 10,000</th>\n",
       "    </tr>\n",
       "  </thead>\n",
       "  <tbody>\n",
       "    <tr>\n",
       "      <th>0</th>\n",
       "      <td>2017-2019</td>\n",
       "      <td>Neighborhood Tabulation Area</td>\n",
       "      <td>501</td>\n",
       "      <td>8</td>\n",
       "      <td>Claremont-Bathgate</td>\n",
       "      <td>289.1</td>\n",
       "      <td>712</td>\n",
       "      <td>296.9</td>\n",
       "    </tr>\n",
       "    <tr>\n",
       "      <th>1</th>\n",
       "      <td>2017-2019</td>\n",
       "      <td>Neighborhood Tabulation Area</td>\n",
       "      <td>503</td>\n",
       "      <td>8</td>\n",
       "      <td>Eastchester-Edenwald-Baychester</td>\n",
       "      <td>158.4</td>\n",
       "      <td>453</td>\n",
       "      <td>158.4</td>\n",
       "    </tr>\n",
       "  </tbody>\n",
       "</table>\n",
       "</div>"
      ],
      "text/plain": [
       "        Time                   GeoTypeDesc  GeoID  GeoRank  \\\n",
       "0  2017-2019  Neighborhood Tabulation Area    501        8   \n",
       "1  2017-2019  Neighborhood Tabulation Area    503        8   \n",
       "\n",
       "                         Geography  \\\n",
       "0               Claremont-Bathgate   \n",
       "1  Eastchester-Edenwald-Baychester   \n",
       "\n",
       "   Average annual age-adjusted rate per 10,000 Average annual number  \\\n",
       "0                                        289.1                   712   \n",
       "1                                        158.4                   453   \n",
       "\n",
       "   Average annual rate per 10,000  \n",
       "0                           296.9  \n",
       "1                           158.4  "
      ]
     },
     "execution_count": 2,
     "metadata": {},
     "output_type": "execute_result"
    }
   ],
   "source": [
    "#er visits\n",
    "#adults, 2017-2019\n",
    "er_18 = pd.read_csv('../Data/asthma_er_18_up_2017_2019.csv')\n",
    "er_18.head(2)"
   ]
  },
  {
   "cell_type": "code",
   "execution_count": 3,
   "id": "edcd5c58-2814-48b7-a582-beb4b1e5ca19",
   "metadata": {},
   "outputs": [
    {
     "data": {
      "text/plain": [
       "Time                                            object\n",
       "GeoTypeDesc                                     object\n",
       "GeoID                                            int64\n",
       "GeoRank                                          int64\n",
       "Geography                                       object\n",
       "Average annual age-adjusted rate per 10,000    float64\n",
       "Average annual number                           object\n",
       "Average annual rate per 10,000                 float64\n",
       "dtype: object"
      ]
     },
     "execution_count": 3,
     "metadata": {},
     "output_type": "execute_result"
    }
   ],
   "source": [
    "er_18.dtypes"
   ]
  },
  {
   "cell_type": "code",
   "execution_count": 4,
   "id": "da65a41a-6ddb-47d8-b195-d5f257b40c9e",
   "metadata": {},
   "outputs": [],
   "source": [
    "#convert avg annual number column to int\n",
    "er_18['Average annual number'] = er_18['Average annual number'].apply(lambda x: re.sub('[^0-9]', '', x)).astype(int)"
   ]
  },
  {
   "cell_type": "markdown",
   "id": "79fcb64b-1b9f-4e05-a327-4e966e570054",
   "metadata": {},
   "source": [
    "#### Children 5-17 ER visits"
   ]
  },
  {
   "cell_type": "code",
   "execution_count": 5,
   "id": "08d00368-9068-4c9d-ba3f-e740a9c8837c",
   "metadata": {},
   "outputs": [
    {
     "data": {
      "text/html": [
       "<div>\n",
       "<style scoped>\n",
       "    .dataframe tbody tr th:only-of-type {\n",
       "        vertical-align: middle;\n",
       "    }\n",
       "\n",
       "    .dataframe tbody tr th {\n",
       "        vertical-align: top;\n",
       "    }\n",
       "\n",
       "    .dataframe thead th {\n",
       "        text-align: right;\n",
       "    }\n",
       "</style>\n",
       "<table border=\"1\" class=\"dataframe\">\n",
       "  <thead>\n",
       "    <tr style=\"text-align: right;\">\n",
       "      <th></th>\n",
       "      <th>Time</th>\n",
       "      <th>GeoTypeDesc</th>\n",
       "      <th>GeoID</th>\n",
       "      <th>GeoRank</th>\n",
       "      <th>Geography</th>\n",
       "      <th>Average annual number</th>\n",
       "      <th>Average annual rate per 10,000</th>\n",
       "    </tr>\n",
       "  </thead>\n",
       "  <tbody>\n",
       "    <tr>\n",
       "      <th>0</th>\n",
       "      <td>2017-2019</td>\n",
       "      <td>Neighborhood Tabulation Area</td>\n",
       "      <td>501</td>\n",
       "      <td>8</td>\n",
       "      <td>Claremont-Bathgate</td>\n",
       "      <td>298</td>\n",
       "      <td>399.5</td>\n",
       "    </tr>\n",
       "    <tr>\n",
       "      <th>1</th>\n",
       "      <td>2017-2019</td>\n",
       "      <td>Neighborhood Tabulation Area</td>\n",
       "      <td>503</td>\n",
       "      <td>8</td>\n",
       "      <td>Eastchester-Edenwald-Baychester</td>\n",
       "      <td>176</td>\n",
       "      <td>271.2</td>\n",
       "    </tr>\n",
       "  </tbody>\n",
       "</table>\n",
       "</div>"
      ],
      "text/plain": [
       "        Time                   GeoTypeDesc  GeoID  GeoRank  \\\n",
       "0  2017-2019  Neighborhood Tabulation Area    501        8   \n",
       "1  2017-2019  Neighborhood Tabulation Area    503        8   \n",
       "\n",
       "                         Geography  Average annual number  \\\n",
       "0               Claremont-Bathgate                    298   \n",
       "1  Eastchester-Edenwald-Baychester                    176   \n",
       "\n",
       "   Average annual rate per 10,000  \n",
       "0                           399.5  \n",
       "1                           271.2  "
      ]
     },
     "execution_count": 5,
     "metadata": {},
     "output_type": "execute_result"
    }
   ],
   "source": [
    "#er visits\n",
    "#children 5-17, 2017-2019\n",
    "er_5 = pd.read_csv('../Data/asthma_er_5_17_2017_2019.csv')\n",
    "er_5.head(2)"
   ]
  },
  {
   "cell_type": "code",
   "execution_count": 6,
   "id": "f524103b-790c-4485-baf3-7a115983ece1",
   "metadata": {},
   "outputs": [
    {
     "data": {
      "text/plain": [
       "Time                               object\n",
       "GeoTypeDesc                        object\n",
       "GeoID                               int64\n",
       "GeoRank                             int64\n",
       "Geography                          object\n",
       "Average annual number               int64\n",
       "Average annual rate per 10,000    float64\n",
       "dtype: object"
      ]
     },
     "execution_count": 6,
     "metadata": {},
     "output_type": "execute_result"
    }
   ],
   "source": [
    "er_5.dtypes"
   ]
  },
  {
   "cell_type": "code",
   "execution_count": 7,
   "id": "f1f1cb94-60b3-4c42-936c-949f1fab7173",
   "metadata": {},
   "outputs": [],
   "source": [
    "#convert avg annual number column to int\n",
    "er_5['Average annual number'] = er_5['Average annual number'].astype(int)"
   ]
  },
  {
   "cell_type": "markdown",
   "id": "d1363c16-59ea-4a56-982a-23eba10d1c28",
   "metadata": {},
   "source": [
    "#### Children 0-4 ER visits"
   ]
  },
  {
   "cell_type": "markdown",
   "id": "b08a4e10-2fac-4b0c-a377-940f36b64a57",
   "metadata": {},
   "source": [
    "There is no 2017-2019 asthma ER visits data for children aged 4 and under at NTA level. However, the citywide data is available. Therefore, we will need to assume every NTA followed the citywide trend and extrapolate the data this way. Since the NYCDOH website only reports the average annual rate per 10,000, we will multiply the 2014-2016 data by the ratio of the citywide $\\frac{mean(2017-2019)}{mean(2012-2014)}$ to infer the NTA level data for this age group for 2017-2019."
   ]
  },
  {
   "cell_type": "code",
   "execution_count": 8,
   "id": "1835490c-6aed-442f-ae60-d90408ac2f9c",
   "metadata": {},
   "outputs": [
    {
     "data": {
      "text/plain": [
       "0.7490754840113119"
      ]
     },
     "execution_count": 8,
     "metadata": {},
     "output_type": "execute_result"
    }
   ],
   "source": [
    "#calculate means for the two periods\n",
    "m_2014_2016 = np.mean([319.8, 307, 292.6])\n",
    "m_2017_2019 = np.mean([253.7, 240.3, 194.7])\n",
    "ratio = m_2017_2019/m_2014_2016\n",
    "ratio"
   ]
  },
  {
   "cell_type": "code",
   "execution_count": 9,
   "id": "860f52ff-4580-4509-acc2-48b686b03a1b",
   "metadata": {},
   "outputs": [
    {
     "data": {
      "text/html": [
       "<div>\n",
       "<style scoped>\n",
       "    .dataframe tbody tr th:only-of-type {\n",
       "        vertical-align: middle;\n",
       "    }\n",
       "\n",
       "    .dataframe tbody tr th {\n",
       "        vertical-align: top;\n",
       "    }\n",
       "\n",
       "    .dataframe thead th {\n",
       "        text-align: right;\n",
       "    }\n",
       "</style>\n",
       "<table border=\"1\" class=\"dataframe\">\n",
       "  <thead>\n",
       "    <tr style=\"text-align: right;\">\n",
       "      <th></th>\n",
       "      <th>Time</th>\n",
       "      <th>GeoTypeDesc</th>\n",
       "      <th>GeoID</th>\n",
       "      <th>GeoRank</th>\n",
       "      <th>Geography</th>\n",
       "      <th>Average annual rate per 10,000</th>\n",
       "      <th>Number</th>\n",
       "    </tr>\n",
       "  </thead>\n",
       "  <tbody>\n",
       "    <tr>\n",
       "      <th>0</th>\n",
       "      <td>2014-2016</td>\n",
       "      <td>Neighborhood Tabulation Area</td>\n",
       "      <td>501</td>\n",
       "      <td>8</td>\n",
       "      <td>Claremont-Bathgate</td>\n",
       "      <td>801.6</td>\n",
       "      <td>762</td>\n",
       "    </tr>\n",
       "    <tr>\n",
       "      <th>1</th>\n",
       "      <td>2014-2016</td>\n",
       "      <td>Neighborhood Tabulation Area</td>\n",
       "      <td>503</td>\n",
       "      <td>8</td>\n",
       "      <td>Eastchester-Edenwald-Baychester</td>\n",
       "      <td>451.6</td>\n",
       "      <td>307</td>\n",
       "    </tr>\n",
       "  </tbody>\n",
       "</table>\n",
       "</div>"
      ],
      "text/plain": [
       "        Time                   GeoTypeDesc  GeoID  GeoRank  \\\n",
       "0  2014-2016  Neighborhood Tabulation Area    501        8   \n",
       "1  2014-2016  Neighborhood Tabulation Area    503        8   \n",
       "\n",
       "                         Geography Average annual rate per 10,000 Number  \n",
       "0               Claremont-Bathgate                          801.6    762  \n",
       "1  Eastchester-Edenwald-Baychester                          451.6    307  "
      ]
     },
     "execution_count": 9,
     "metadata": {},
     "output_type": "execute_result"
    }
   ],
   "source": [
    "er_0 = pd.read_csv('../Data/asthma_er_0_4_2014_2016.csv')\n",
    "er_0.head(2)"
   ]
  },
  {
   "cell_type": "code",
   "execution_count": 10,
   "id": "d28c7eee-1ff5-4438-a43d-f6219022d171",
   "metadata": {},
   "outputs": [
    {
     "data": {
      "text/plain": [
       "Time                              object\n",
       "GeoTypeDesc                       object\n",
       "GeoID                              int64\n",
       "GeoRank                            int64\n",
       "Geography                         object\n",
       "Average annual rate per 10,000    object\n",
       "Number                            object\n",
       "dtype: object"
      ]
     },
     "execution_count": 10,
     "metadata": {},
     "output_type": "execute_result"
    }
   ],
   "source": [
    "er_0.dtypes"
   ]
  },
  {
   "cell_type": "code",
   "execution_count": 11,
   "id": "7e4579cc-c4c8-4d8d-b529-c11465ac672a",
   "metadata": {},
   "outputs": [
    {
     "data": {
      "text/html": [
       "<div>\n",
       "<style scoped>\n",
       "    .dataframe tbody tr th:only-of-type {\n",
       "        vertical-align: middle;\n",
       "    }\n",
       "\n",
       "    .dataframe tbody tr th {\n",
       "        vertical-align: top;\n",
       "    }\n",
       "\n",
       "    .dataframe thead th {\n",
       "        text-align: right;\n",
       "    }\n",
       "</style>\n",
       "<table border=\"1\" class=\"dataframe\">\n",
       "  <thead>\n",
       "    <tr style=\"text-align: right;\">\n",
       "      <th></th>\n",
       "      <th>Time</th>\n",
       "      <th>GeoTypeDesc</th>\n",
       "      <th>GeoID</th>\n",
       "      <th>GeoRank</th>\n",
       "      <th>Geography</th>\n",
       "      <th>Average annual rate per 10,000</th>\n",
       "      <th>Number</th>\n",
       "    </tr>\n",
       "  </thead>\n",
       "  <tbody>\n",
       "    <tr>\n",
       "      <th>0</th>\n",
       "      <td>2014-2016</td>\n",
       "      <td>Neighborhood Tabulation Area</td>\n",
       "      <td>501</td>\n",
       "      <td>8</td>\n",
       "      <td>Claremont-Bathgate</td>\n",
       "      <td>600.5</td>\n",
       "      <td>762</td>\n",
       "    </tr>\n",
       "    <tr>\n",
       "      <th>1</th>\n",
       "      <td>2014-2016</td>\n",
       "      <td>Neighborhood Tabulation Area</td>\n",
       "      <td>503</td>\n",
       "      <td>8</td>\n",
       "      <td>Eastchester-Edenwald-Baychester</td>\n",
       "      <td>338.3</td>\n",
       "      <td>307</td>\n",
       "    </tr>\n",
       "  </tbody>\n",
       "</table>\n",
       "</div>"
      ],
      "text/plain": [
       "        Time                   GeoTypeDesc  GeoID  GeoRank  \\\n",
       "0  2014-2016  Neighborhood Tabulation Area    501        8   \n",
       "1  2014-2016  Neighborhood Tabulation Area    503        8   \n",
       "\n",
       "                         Geography  Average annual rate per 10,000  Number  \n",
       "0               Claremont-Bathgate                           600.5     762  \n",
       "1  Eastchester-Edenwald-Baychester                           338.3     307  "
      ]
     },
     "execution_count": 11,
     "metadata": {},
     "output_type": "execute_result"
    }
   ],
   "source": [
    "#convert the avg rate and number columns to float and int, respectively\n",
    "er_0['Average annual rate per 10,000'] = er_0['Average annual rate per 10,000'].apply(lambda x: re.sub('[^0-9.]', '', x)).astype(float)\n",
    "er_0['Average annual rate per 10,000'] = round(er_0['Average annual rate per 10,000']*ratio, 1)\n",
    "er_0['Number'] = er_0['Number'].apply(lambda x: re.sub('[^0-9]', '', x)).astype(int)\n",
    "er_0.head(2)"
   ]
  },
  {
   "cell_type": "markdown",
   "id": "c2d8bb9f-87bf-4d33-bafc-bfaa68dc10a3",
   "metadata": {},
   "source": [
    "#### Combine the three dataframes above"
   ]
  },
  {
   "cell_type": "code",
   "execution_count": 12,
   "id": "b4abdd43-81e7-4adb-832b-673926b915aa",
   "metadata": {},
   "outputs": [
    {
     "name": "stdout",
     "output_type": "stream",
     "text": [
      "188\n"
     ]
    },
    {
     "data": {
      "text/html": [
       "<div>\n",
       "<style scoped>\n",
       "    .dataframe tbody tr th:only-of-type {\n",
       "        vertical-align: middle;\n",
       "    }\n",
       "\n",
       "    .dataframe tbody tr th {\n",
       "        vertical-align: top;\n",
       "    }\n",
       "\n",
       "    .dataframe thead th {\n",
       "        text-align: right;\n",
       "    }\n",
       "</style>\n",
       "<table border=\"1\" class=\"dataframe\">\n",
       "  <thead>\n",
       "    <tr style=\"text-align: right;\">\n",
       "      <th></th>\n",
       "      <th>Time</th>\n",
       "      <th>GeoTypeDesc</th>\n",
       "      <th>GeoID</th>\n",
       "      <th>GeoRank</th>\n",
       "      <th>Geography</th>\n",
       "      <th>Average annual age-adjusted rate per 10,000</th>\n",
       "      <th>Average annual number_x</th>\n",
       "      <th>Average annual rate per 10,000_x</th>\n",
       "      <th>Average annual number_y</th>\n",
       "      <th>Average annual rate per 10,000_y</th>\n",
       "      <th>Average annual rate per 10,000</th>\n",
       "      <th>Number</th>\n",
       "    </tr>\n",
       "  </thead>\n",
       "  <tbody>\n",
       "    <tr>\n",
       "      <th>0</th>\n",
       "      <td>2017-2019</td>\n",
       "      <td>Neighborhood Tabulation Area</td>\n",
       "      <td>501</td>\n",
       "      <td>8</td>\n",
       "      <td>Claremont-Bathgate</td>\n",
       "      <td>289.1</td>\n",
       "      <td>712</td>\n",
       "      <td>296.9</td>\n",
       "      <td>298</td>\n",
       "      <td>399.5</td>\n",
       "      <td>600.5</td>\n",
       "      <td>762</td>\n",
       "    </tr>\n",
       "    <tr>\n",
       "      <th>1</th>\n",
       "      <td>2017-2019</td>\n",
       "      <td>Neighborhood Tabulation Area</td>\n",
       "      <td>503</td>\n",
       "      <td>8</td>\n",
       "      <td>Eastchester-Edenwald-Baychester</td>\n",
       "      <td>158.4</td>\n",
       "      <td>453</td>\n",
       "      <td>158.4</td>\n",
       "      <td>176</td>\n",
       "      <td>271.2</td>\n",
       "      <td>338.3</td>\n",
       "      <td>307</td>\n",
       "    </tr>\n",
       "  </tbody>\n",
       "</table>\n",
       "</div>"
      ],
      "text/plain": [
       "        Time                   GeoTypeDesc  GeoID  GeoRank  \\\n",
       "0  2017-2019  Neighborhood Tabulation Area    501        8   \n",
       "1  2017-2019  Neighborhood Tabulation Area    503        8   \n",
       "\n",
       "                         Geography  \\\n",
       "0               Claremont-Bathgate   \n",
       "1  Eastchester-Edenwald-Baychester   \n",
       "\n",
       "   Average annual age-adjusted rate per 10,000  Average annual number_x  \\\n",
       "0                                        289.1                      712   \n",
       "1                                        158.4                      453   \n",
       "\n",
       "   Average annual rate per 10,000_x  Average annual number_y  \\\n",
       "0                             296.9                      298   \n",
       "1                             158.4                      176   \n",
       "\n",
       "   Average annual rate per 10,000_y  Average annual rate per 10,000  Number  \n",
       "0                             399.5                           600.5     762  \n",
       "1                             271.2                           338.3     307  "
      ]
     },
     "execution_count": 12,
     "metadata": {},
     "output_type": "execute_result"
    }
   ],
   "source": [
    "#first merge\n",
    "#er_18 and er_5\n",
    "m_1 = er_18.merge(er_5[['Geography', 'Average annual number', 'Average annual rate per 10,000']], \n",
    "                  how='inner', left_on='Geography', right_on='Geography')\n",
    "\n",
    "#second merge\n",
    "#m_1 and er_0\n",
    "m_2 = m_1.merge(er_0[['Geography', 'Average annual rate per 10,000', 'Number']], \n",
    "                how='inner', left_on='Geography', right_on='Geography')\n",
    "print(len(m_2))\n",
    "m_2.head(2)"
   ]
  },
  {
   "cell_type": "code",
   "execution_count": 13,
   "id": "d94c140f-4d37-4f82-a3c0-4faca8aa88fd",
   "metadata": {},
   "outputs": [
    {
     "data": {
      "text/html": [
       "<div>\n",
       "<style scoped>\n",
       "    .dataframe tbody tr th:only-of-type {\n",
       "        vertical-align: middle;\n",
       "    }\n",
       "\n",
       "    .dataframe tbody tr th {\n",
       "        vertical-align: top;\n",
       "    }\n",
       "\n",
       "    .dataframe thead th {\n",
       "        text-align: right;\n",
       "    }\n",
       "</style>\n",
       "<table border=\"1\" class=\"dataframe\">\n",
       "  <thead>\n",
       "    <tr style=\"text-align: right;\">\n",
       "      <th></th>\n",
       "      <th>GeoID</th>\n",
       "      <th>GeoRank</th>\n",
       "      <th>Geography</th>\n",
       "      <th>aaa_rate</th>\n",
       "      <th>avg_rat_18</th>\n",
       "      <th>avg_rat_5</th>\n",
       "      <th>avg_rat_0</th>\n",
       "      <th>avg_num</th>\n",
       "    </tr>\n",
       "  </thead>\n",
       "  <tbody>\n",
       "    <tr>\n",
       "      <th>0</th>\n",
       "      <td>501</td>\n",
       "      <td>8</td>\n",
       "      <td>Claremont-Bathgate</td>\n",
       "      <td>289.1</td>\n",
       "      <td>296.9</td>\n",
       "      <td>399.5</td>\n",
       "      <td>600.5</td>\n",
       "      <td>1772</td>\n",
       "    </tr>\n",
       "    <tr>\n",
       "      <th>1</th>\n",
       "      <td>503</td>\n",
       "      <td>8</td>\n",
       "      <td>Eastchester-Edenwald-Baychester</td>\n",
       "      <td>158.4</td>\n",
       "      <td>158.4</td>\n",
       "      <td>271.2</td>\n",
       "      <td>338.3</td>\n",
       "      <td>936</td>\n",
       "    </tr>\n",
       "  </tbody>\n",
       "</table>\n",
       "</div>"
      ],
      "text/plain": [
       "   GeoID  GeoRank                        Geography  aaa_rate  avg_rat_18  \\\n",
       "0    501        8               Claremont-Bathgate     289.1       296.9   \n",
       "1    503        8  Eastchester-Edenwald-Baychester     158.4       158.4   \n",
       "\n",
       "   avg_rat_5  avg_rat_0  avg_num  \n",
       "0      399.5      600.5     1772  \n",
       "1      271.2      338.3      936  "
      ]
     },
     "execution_count": 13,
     "metadata": {},
     "output_type": "execute_result"
    }
   ],
   "source": [
    "#sum average annual number for all age groups\n",
    "m_2['avg_num'] = m_2['Average annual number_x']+m_2['Average annual number_y']+m_2['Number']\n",
    "\n",
    "#rename adult age-adjusted rate column\n",
    "m_2 = m_2.rename(columns={'Average annual age-adjusted rate per 10,000':'aaa_rate', \n",
    "                          'Average annual rate per 10,000_x':'avg_rat_18',\n",
    "                          'Average annual rate per 10,000_y':'avg_rat_5',\n",
    "                          'Average annual rate per 10,000':'avg_rat_0'})\n",
    "m_2 = m_2[['GeoID', 'GeoRank', 'Geography', 'aaa_rate', 'avg_rat_18', 'avg_rat_5', 'avg_rat_0', 'avg_num']]\n",
    "m_2.head(2)"
   ]
  },
  {
   "cell_type": "markdown",
   "id": "a1be39b2-b507-4cd2-b69d-1ea121144492",
   "metadata": {},
   "source": [
    "The average rate for all age group combined needs to be calculated with the total population in each NTA."
   ]
  },
  {
   "cell_type": "code",
   "execution_count": 14,
   "id": "dd90084c-173d-4e4e-957a-c73e2ac3d137",
   "metadata": {},
   "outputs": [],
   "source": [
    "m_2.to_csv('../Data/asthma_er_nta.csv', index=False)"
   ]
  },
  {
   "cell_type": "markdown",
   "id": "5b55fe19-ca82-4f76-bc7a-283e391e13b8",
   "metadata": {},
   "source": [
    "#### Add the asthma data to NTA shapefile"
   ]
  },
  {
   "cell_type": "code",
   "execution_count": 15,
   "id": "3cb89726-4146-4534-9b38-32428fb32723",
   "metadata": {},
   "outputs": [
    {
     "data": {
      "text/html": [
       "<div>\n",
       "<style scoped>\n",
       "    .dataframe tbody tr th:only-of-type {\n",
       "        vertical-align: middle;\n",
       "    }\n",
       "\n",
       "    .dataframe tbody tr th {\n",
       "        vertical-align: top;\n",
       "    }\n",
       "\n",
       "    .dataframe thead th {\n",
       "        text-align: right;\n",
       "    }\n",
       "</style>\n",
       "<table border=\"1\" class=\"dataframe\">\n",
       "  <thead>\n",
       "    <tr style=\"text-align: right;\">\n",
       "      <th></th>\n",
       "      <th>boro_code</th>\n",
       "      <th>boro_name</th>\n",
       "      <th>county_fip</th>\n",
       "      <th>ntacode</th>\n",
       "      <th>ntaname</th>\n",
       "      <th>shape_area</th>\n",
       "      <th>shape_leng</th>\n",
       "      <th>geometry</th>\n",
       "    </tr>\n",
       "  </thead>\n",
       "  <tbody>\n",
       "    <tr>\n",
       "      <th>0</th>\n",
       "      <td>4.0</td>\n",
       "      <td>Queens</td>\n",
       "      <td>081</td>\n",
       "      <td>QN08</td>\n",
       "      <td>St. Albans</td>\n",
       "      <td>7.741275e+07</td>\n",
       "      <td>45401.316803</td>\n",
       "      <td>POLYGON ((-73.75205 40.70523, -73.75174 40.704...</td>\n",
       "    </tr>\n",
       "    <tr>\n",
       "      <th>1</th>\n",
       "      <td>2.0</td>\n",
       "      <td>Bronx</td>\n",
       "      <td>005</td>\n",
       "      <td>BX28</td>\n",
       "      <td>Van Cortlandt Village</td>\n",
       "      <td>2.566612e+07</td>\n",
       "      <td>21945.719299</td>\n",
       "      <td>POLYGON ((-73.88705 40.88435, -73.88705 40.884...</td>\n",
       "    </tr>\n",
       "    <tr>\n",
       "      <th>2</th>\n",
       "      <td>4.0</td>\n",
       "      <td>Queens</td>\n",
       "      <td>081</td>\n",
       "      <td>QN55</td>\n",
       "      <td>South Ozone Park</td>\n",
       "      <td>8.246139e+07</td>\n",
       "      <td>36708.169305</td>\n",
       "      <td>POLYGON ((-73.80577 40.68293, -73.80552 40.682...</td>\n",
       "    </tr>\n",
       "    <tr>\n",
       "      <th>3</th>\n",
       "      <td>3.0</td>\n",
       "      <td>Brooklyn</td>\n",
       "      <td>047</td>\n",
       "      <td>BK40</td>\n",
       "      <td>Windsor Terrace</td>\n",
       "      <td>1.404167e+07</td>\n",
       "      <td>19033.672066</td>\n",
       "      <td>POLYGON ((-73.98017 40.66115, -73.98021 40.661...</td>\n",
       "    </tr>\n",
       "    <tr>\n",
       "      <th>4</th>\n",
       "      <td>3.0</td>\n",
       "      <td>Brooklyn</td>\n",
       "      <td>047</td>\n",
       "      <td>BK50</td>\n",
       "      <td>Canarsie</td>\n",
       "      <td>8.208968e+07</td>\n",
       "      <td>43703.609666</td>\n",
       "      <td>MULTIPOLYGON (((-73.88834 40.64671, -73.88835 ...</td>\n",
       "    </tr>\n",
       "  </tbody>\n",
       "</table>\n",
       "</div>"
      ],
      "text/plain": [
       "   boro_code boro_name county_fip ntacode                ntaname  \\\n",
       "0        4.0    Queens        081    QN08             St. Albans   \n",
       "1        2.0     Bronx        005    BX28  Van Cortlandt Village   \n",
       "2        4.0    Queens        081    QN55       South Ozone Park   \n",
       "3        3.0  Brooklyn        047    BK40        Windsor Terrace   \n",
       "4        3.0  Brooklyn        047    BK50               Canarsie   \n",
       "\n",
       "     shape_area    shape_leng  \\\n",
       "0  7.741275e+07  45401.316803   \n",
       "1  2.566612e+07  21945.719299   \n",
       "2  8.246139e+07  36708.169305   \n",
       "3  1.404167e+07  19033.672066   \n",
       "4  8.208968e+07  43703.609666   \n",
       "\n",
       "                                            geometry  \n",
       "0  POLYGON ((-73.75205 40.70523, -73.75174 40.704...  \n",
       "1  POLYGON ((-73.88705 40.88435, -73.88705 40.884...  \n",
       "2  POLYGON ((-73.80577 40.68293, -73.80552 40.682...  \n",
       "3  POLYGON ((-73.98017 40.66115, -73.98021 40.661...  \n",
       "4  MULTIPOLYGON (((-73.88834 40.64671, -73.88835 ...  "
      ]
     },
     "execution_count": 15,
     "metadata": {},
     "output_type": "execute_result"
    }
   ],
   "source": [
    "#the data above is generated using 2010 NTA\n",
    "nta = gpd.read_file('../Data/nta_2010/geo_export_d66993ca-6cc0-4ee0-9b66-052e7675b5f0.shp')\n",
    "nta.head()"
   ]
  },
  {
   "cell_type": "code",
   "execution_count": 16,
   "id": "c0098840-048f-46cb-9fd9-346b143eab6b",
   "metadata": {},
   "outputs": [],
   "source": [
    "nta_df = pd.DataFrame(nta)"
   ]
  },
  {
   "cell_type": "code",
   "execution_count": 17,
   "id": "6901ef77-d3ea-4acb-93ef-814a19124b2e",
   "metadata": {},
   "outputs": [
    {
     "name": "stdout",
     "output_type": "stream",
     "text": [
      "188\n"
     ]
    }
   ],
   "source": [
    "#check that nta names match \n",
    "print(len(set(nta_df['ntaname']).intersection(set(m_2['Geography']))))"
   ]
  },
  {
   "cell_type": "code",
   "execution_count": 18,
   "id": "884a1217-b356-4534-98b8-2d8c2d8e9842",
   "metadata": {},
   "outputs": [
    {
     "name": "stdout",
     "output_type": "stream",
     "text": [
      "188\n"
     ]
    },
    {
     "data": {
      "text/html": [
       "<div>\n",
       "<style scoped>\n",
       "    .dataframe tbody tr th:only-of-type {\n",
       "        vertical-align: middle;\n",
       "    }\n",
       "\n",
       "    .dataframe tbody tr th {\n",
       "        vertical-align: top;\n",
       "    }\n",
       "\n",
       "    .dataframe thead th {\n",
       "        text-align: right;\n",
       "    }\n",
       "</style>\n",
       "<table border=\"1\" class=\"dataframe\">\n",
       "  <thead>\n",
       "    <tr style=\"text-align: right;\">\n",
       "      <th></th>\n",
       "      <th>boro_code</th>\n",
       "      <th>boro_name</th>\n",
       "      <th>county_fip</th>\n",
       "      <th>ntacode</th>\n",
       "      <th>ntaname</th>\n",
       "      <th>shape_area</th>\n",
       "      <th>shape_leng</th>\n",
       "      <th>geometry</th>\n",
       "      <th>GeoID</th>\n",
       "      <th>GeoRank</th>\n",
       "      <th>Geography</th>\n",
       "      <th>aaa_rate</th>\n",
       "      <th>avg_rat_18</th>\n",
       "      <th>avg_rat_5</th>\n",
       "      <th>avg_rat_0</th>\n",
       "      <th>avg_num</th>\n",
       "    </tr>\n",
       "  </thead>\n",
       "  <tbody>\n",
       "    <tr>\n",
       "      <th>0</th>\n",
       "      <td>4.0</td>\n",
       "      <td>Queens</td>\n",
       "      <td>081</td>\n",
       "      <td>QN08</td>\n",
       "      <td>St. Albans</td>\n",
       "      <td>7.741275e+07</td>\n",
       "      <td>45401.316803</td>\n",
       "      <td>POLYGON ((-73.75205 40.70523, -73.75174 40.704...</td>\n",
       "      <td>8108</td>\n",
       "      <td>8</td>\n",
       "      <td>St. Albans</td>\n",
       "      <td>86.5</td>\n",
       "      <td>85.3</td>\n",
       "      <td>157.1</td>\n",
       "      <td>225.7</td>\n",
       "      <td>752</td>\n",
       "    </tr>\n",
       "    <tr>\n",
       "      <th>1</th>\n",
       "      <td>2.0</td>\n",
       "      <td>Bronx</td>\n",
       "      <td>005</td>\n",
       "      <td>BX28</td>\n",
       "      <td>Van Cortlandt Village</td>\n",
       "      <td>2.566612e+07</td>\n",
       "      <td>21945.719299</td>\n",
       "      <td>POLYGON ((-73.88705 40.88435, -73.88705 40.884...</td>\n",
       "      <td>528</td>\n",
       "      <td>8</td>\n",
       "      <td>Van Cortlandt Village</td>\n",
       "      <td>90.3</td>\n",
       "      <td>90.2</td>\n",
       "      <td>239.7</td>\n",
       "      <td>381.0</td>\n",
       "      <td>1108</td>\n",
       "    </tr>\n",
       "  </tbody>\n",
       "</table>\n",
       "</div>"
      ],
      "text/plain": [
       "   boro_code boro_name county_fip ntacode                ntaname  \\\n",
       "0        4.0    Queens        081    QN08             St. Albans   \n",
       "1        2.0     Bronx        005    BX28  Van Cortlandt Village   \n",
       "\n",
       "     shape_area    shape_leng  \\\n",
       "0  7.741275e+07  45401.316803   \n",
       "1  2.566612e+07  21945.719299   \n",
       "\n",
       "                                            geometry  GeoID  GeoRank  \\\n",
       "0  POLYGON ((-73.75205 40.70523, -73.75174 40.704...   8108        8   \n",
       "1  POLYGON ((-73.88705 40.88435, -73.88705 40.884...    528        8   \n",
       "\n",
       "               Geography  aaa_rate  avg_rat_18  avg_rat_5  avg_rat_0  avg_num  \n",
       "0             St. Albans      86.5        85.3      157.1      225.7      752  \n",
       "1  Van Cortlandt Village      90.3        90.2      239.7      381.0     1108  "
      ]
     },
     "execution_count": 18,
     "metadata": {},
     "output_type": "execute_result"
    }
   ],
   "source": [
    "#merge m_2 with nta\n",
    "nta_m = nta_df.merge(m_2, how='inner', left_on='ntaname', right_on='Geography')\n",
    "print(len(nta_m))\n",
    "nta_m.head(2)"
   ]
  },
  {
   "cell_type": "code",
   "execution_count": 23,
   "id": "24356554-8327-45d1-bbb3-ef04ee22a99d",
   "metadata": {},
   "outputs": [
    {
     "data": {
      "text/html": [
       "<div>\n",
       "<style scoped>\n",
       "    .dataframe tbody tr th:only-of-type {\n",
       "        vertical-align: middle;\n",
       "    }\n",
       "\n",
       "    .dataframe tbody tr th {\n",
       "        vertical-align: top;\n",
       "    }\n",
       "\n",
       "    .dataframe thead th {\n",
       "        text-align: right;\n",
       "    }\n",
       "</style>\n",
       "<table border=\"1\" class=\"dataframe\">\n",
       "  <thead>\n",
       "    <tr style=\"text-align: right;\">\n",
       "      <th></th>\n",
       "      <th>boro_code</th>\n",
       "      <th>boro_name</th>\n",
       "      <th>county_fip</th>\n",
       "      <th>ntacode</th>\n",
       "      <th>ntaname</th>\n",
       "      <th>shape_area</th>\n",
       "      <th>shape_leng</th>\n",
       "      <th>geometry</th>\n",
       "      <th>GeoID</th>\n",
       "      <th>GeoRank</th>\n",
       "      <th>Geography</th>\n",
       "      <th>aaa_rate</th>\n",
       "      <th>avg_rat_18</th>\n",
       "      <th>avg_rat_5</th>\n",
       "      <th>avg_rat_0</th>\n",
       "      <th>avg_num</th>\n",
       "    </tr>\n",
       "  </thead>\n",
       "  <tbody>\n",
       "    <tr>\n",
       "      <th>0</th>\n",
       "      <td>4.0</td>\n",
       "      <td>Queens</td>\n",
       "      <td>081</td>\n",
       "      <td>QN08</td>\n",
       "      <td>St. Albans</td>\n",
       "      <td>7.741275e+07</td>\n",
       "      <td>45401.316803</td>\n",
       "      <td>POLYGON ((-73.75205 40.70523, -73.75174 40.704...</td>\n",
       "      <td>8108</td>\n",
       "      <td>8</td>\n",
       "      <td>St. Albans</td>\n",
       "      <td>86.5</td>\n",
       "      <td>85.3</td>\n",
       "      <td>157.1</td>\n",
       "      <td>225.7</td>\n",
       "      <td>752</td>\n",
       "    </tr>\n",
       "    <tr>\n",
       "      <th>1</th>\n",
       "      <td>2.0</td>\n",
       "      <td>Bronx</td>\n",
       "      <td>005</td>\n",
       "      <td>BX28</td>\n",
       "      <td>Van Cortlandt Village</td>\n",
       "      <td>2.566612e+07</td>\n",
       "      <td>21945.719299</td>\n",
       "      <td>POLYGON ((-73.88705 40.88435, -73.88705 40.884...</td>\n",
       "      <td>528</td>\n",
       "      <td>8</td>\n",
       "      <td>Van Cortlandt Village</td>\n",
       "      <td>90.3</td>\n",
       "      <td>90.2</td>\n",
       "      <td>239.7</td>\n",
       "      <td>381.0</td>\n",
       "      <td>1108</td>\n",
       "    </tr>\n",
       "  </tbody>\n",
       "</table>\n",
       "</div>"
      ],
      "text/plain": [
       "   boro_code boro_name county_fip ntacode                ntaname  \\\n",
       "0        4.0    Queens        081    QN08             St. Albans   \n",
       "1        2.0     Bronx        005    BX28  Van Cortlandt Village   \n",
       "\n",
       "     shape_area    shape_leng  \\\n",
       "0  7.741275e+07  45401.316803   \n",
       "1  2.566612e+07  21945.719299   \n",
       "\n",
       "                                            geometry  GeoID  GeoRank  \\\n",
       "0  POLYGON ((-73.75205 40.70523, -73.75174 40.704...   8108        8   \n",
       "1  POLYGON ((-73.88705 40.88435, -73.88705 40.884...    528        8   \n",
       "\n",
       "               Geography  aaa_rate  avg_rat_18  avg_rat_5  avg_rat_0  avg_num  \n",
       "0             St. Albans      86.5        85.3      157.1      225.7      752  \n",
       "1  Van Cortlandt Village      90.3        90.2      239.7      381.0     1108  "
      ]
     },
     "execution_count": 23,
     "metadata": {},
     "output_type": "execute_result"
    }
   ],
   "source": [
    "nta_m_gdf = gpd.GeoDataFrame(nta_m, geometry='geometry')\n",
    "nta_m_gdf = nta_m_gdf.set_crs(4326, allow_override=True)\n",
    "nta_m_gdf.head(2)"
   ]
  },
  {
   "cell_type": "code",
   "execution_count": 24,
   "id": "c0863dd8-f449-4a2b-aa5b-40ecf4d7702c",
   "metadata": {},
   "outputs": [
    {
     "name": "stderr",
     "output_type": "stream",
     "text": [
      "C:\\Users\\mengk\\anaconda3\\envs\\geo_test\\lib\\site-packages\\geopandas\\io\\file.py:362: FutureWarning: pandas.Int64Index is deprecated and will be removed from pandas in a future version. Use pandas.Index with the appropriate dtype instead.\n",
      "  pd.Int64Index,\n"
     ]
    }
   ],
   "source": [
    "nta_m_gdf.to_file('../Data/asthma_er_nta/asthma_er_nta.shp')"
   ]
  }
 ],
 "metadata": {
  "kernelspec": {
   "display_name": "Python [conda env:geo_test]",
   "language": "python",
   "name": "conda-env-geo_test-py"
  },
  "language_info": {
   "codemirror_mode": {
    "name": "ipython",
    "version": 3
   },
   "file_extension": ".py",
   "mimetype": "text/x-python",
   "name": "python",
   "nbconvert_exporter": "python",
   "pygments_lexer": "ipython3",
   "version": "3.9.10"
  }
 },
 "nbformat": 4,
 "nbformat_minor": 5
}
