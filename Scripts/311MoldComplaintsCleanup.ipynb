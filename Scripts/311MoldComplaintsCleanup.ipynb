{
 "cells": [
  {
   "attachments": {},
   "cell_type": "markdown",
   "metadata": {},
   "source": [
    "### 311 Data Cleanup Script\n",
    "\n",
    "Data obtained through https://data.cityofnewyork.us/Social-Services/311-Service-Requests-from-2010-to-Present/erm2-nwe9/explore/query/SELECT%0A%20%20%60unique_key%60%2C%0A%20%20%60created_date%60%2C%0A%20%20%60closed_date%60%2C%0A%20%20%60agency%60%2C%0A%20%20%60agency_name%60%2C%0A%20%20%60complaint_type%60%2C%0A%20%20%60descriptor%60%2C%0A%20%20%60location_type%60%2C%0A%20%20%60incident_zip%60%2C%0A%20%20%60incident_address%60%2C%0A%20%20%60street_name%60%2C%0A%20%20%60cross_street_1%60%2C%0A%20%20%60cross_street_2%60%2C%0A%20%20%60intersection_street_1%60%2C%0A%20%20%60intersection_street_2%60%2C%0A%20%20%60address_type%60%2C%0A%20%20%60city%60%2C%0A%20%20%60landmark%60%2C%0A%20%20%60facility_type%60%2C%0A%20%20%60status%60%2C%0A%20%20%60due_date%60%2C%0A%20%20%60resolution_description%60%2C%0A%20%20%60resolution_action_updated_date%60%2C%0A%20%20%60community_board%60%2C%0A%20%20%60bbl%60%2C%0A%20%20%60borough%60%2C%0A%20%20%60x_coordinate_state_plane%60%2C%0A%20%20%60y_coordinate_state_plane%60%2C%0A%20%20%60open_data_channel_type%60%2C%0A%20%20%60park_facility_name%60%2C%0A%20%20%60park_borough%60%2C%0A%20%20%60vehicle_type%60%2C%0A%20%20%60taxi_company_borough%60%2C%0A%20%20%60taxi_pick_up_location%60%2C%0A%20%20%60bridge_highway_name%60%2C%0A%20%20%60bridge_highway_direction%60%2C%0A%20%20%60road_ramp%60%2C%0A%20%20%60bridge_highway_segment%60%2C%0A%20%20%60latitude%60%2C%0A%20%20%60longitude%60%2C%0A%20%20%60location%60%2C%0A%20%20%60%3A%40computed_region_efsh_h5xi%60%2C%0A%20%20%60%3A%40computed_region_f5dn_yrer%60%2C%0A%20%20%60%3A%40computed_region_yeji_bk3q%60%2C%0A%20%20%60%3A%40computed_region_92fq_4b7q%60%2C%0A%20%20%60%3A%40computed_region_sbqj_enih%60%0AWHERE%20%60descriptor%60%20IN%20%28%22MOLD%22%29%0AORDER%20BY%20%60created_date%60%20DESC%20NULL%20LAST/page/filter\n",
    "\n",
    "\n",
    "In the following cleaned and filtered to the years of 2010 and 2022\n",
    "\n",
    "#### Author: Matthias Fitzky"
   ]
  },
  {
   "cell_type": "code",
   "execution_count": 1,
   "metadata": {},
   "outputs": [],
   "source": [
    "import pandas as pd\n",
    "import numpy as np"
   ]
  },
  {
   "cell_type": "code",
   "execution_count": 2,
   "metadata": {},
   "outputs": [
    {
     "name": "stderr",
     "output_type": "stream",
     "text": [
      "c:\\ProgramData\\Miniconda3\\envs\\testv37\\lib\\site-packages\\IPython\\core\\interactiveshell.py:3457: DtypeWarning: Columns (11,12) have mixed types.Specify dtype option on import or set low_memory=False.\n",
      "  exec(code_obj, self.user_global_ns, self.user_ns)\n"
     ]
    }
   ],
   "source": [
    "Data311Raw=pd.read_csv(r'..\\Data\\311_Service_Requests_from_2010_to_Present.csv')[['Unique Key','BBL','Created Date','Descriptor','Closed Date']]"
   ]
  },
  {
   "cell_type": "code",
   "execution_count": 3,
   "metadata": {},
   "outputs": [
    {
     "data": {
      "text/plain": [
       "Unique Key        int64\n",
       "BBL             float64\n",
       "Created Date     object\n",
       "Descriptor       object\n",
       "Closed Date      object\n",
       "dtype: object"
      ]
     },
     "execution_count": 3,
     "metadata": {},
     "output_type": "execute_result"
    }
   ],
   "source": [
    "Data311Raw.dtypes"
   ]
  },
  {
   "cell_type": "code",
   "execution_count": 4,
   "metadata": {},
   "outputs": [
    {
     "data": {
      "text/plain": [
       "(326980, 5)"
      ]
     },
     "execution_count": 4,
     "metadata": {},
     "output_type": "execute_result"
    }
   ],
   "source": [
    "Data311Raw.shape"
   ]
  },
  {
   "cell_type": "code",
   "execution_count": 5,
   "metadata": {},
   "outputs": [],
   "source": [
    "#Filter data that has no bbl \n",
    "Data311Raw.dropna(inplace=True)"
   ]
  },
  {
   "cell_type": "code",
   "execution_count": 6,
   "metadata": {},
   "outputs": [
    {
     "data": {
      "text/plain": [
       "(318890, 5)"
      ]
     },
     "execution_count": 6,
     "metadata": {},
     "output_type": "execute_result"
    }
   ],
   "source": [
    "Data311Raw.shape"
   ]
  },
  {
   "cell_type": "code",
   "execution_count": 7,
   "metadata": {},
   "outputs": [
    {
     "data": {
      "text/html": [
       "<div>\n",
       "<style scoped>\n",
       "    .dataframe tbody tr th:only-of-type {\n",
       "        vertical-align: middle;\n",
       "    }\n",
       "\n",
       "    .dataframe tbody tr th {\n",
       "        vertical-align: top;\n",
       "    }\n",
       "\n",
       "    .dataframe thead th {\n",
       "        text-align: right;\n",
       "    }\n",
       "</style>\n",
       "<table border=\"1\" class=\"dataframe\">\n",
       "  <thead>\n",
       "    <tr style=\"text-align: right;\">\n",
       "      <th></th>\n",
       "      <th>Unique Key</th>\n",
       "      <th>BBL</th>\n",
       "      <th>Created Date</th>\n",
       "      <th>Descriptor</th>\n",
       "      <th>Closed Date</th>\n",
       "    </tr>\n",
       "  </thead>\n",
       "  <tbody>\n",
       "    <tr>\n",
       "      <th>52</th>\n",
       "      <td>57284227</td>\n",
       "      <td>4.096630e+09</td>\n",
       "      <td>04/11/2023 10:40:18 AM</td>\n",
       "      <td>MOLD</td>\n",
       "      <td>04/11/2023 07:24:14 PM</td>\n",
       "    </tr>\n",
       "    <tr>\n",
       "      <th>62</th>\n",
       "      <td>57273077</td>\n",
       "      <td>2.030990e+09</td>\n",
       "      <td>04/10/2023 06:49:42 PM</td>\n",
       "      <td>MOLD</td>\n",
       "      <td>04/11/2023 08:18:17 PM</td>\n",
       "    </tr>\n",
       "    <tr>\n",
       "      <th>81</th>\n",
       "      <td>57277837</td>\n",
       "      <td>5.000460e+09</td>\n",
       "      <td>04/10/2023 03:19:00 PM</td>\n",
       "      <td>MOLD</td>\n",
       "      <td>04/11/2023 08:18:28 PM</td>\n",
       "    </tr>\n",
       "    <tr>\n",
       "      <th>83</th>\n",
       "      <td>57278428</td>\n",
       "      <td>2.032120e+09</td>\n",
       "      <td>04/10/2023 03:12:47 PM</td>\n",
       "      <td>MOLD</td>\n",
       "      <td>04/11/2023 05:28:06 PM</td>\n",
       "    </tr>\n",
       "    <tr>\n",
       "      <th>106</th>\n",
       "      <td>57276497</td>\n",
       "      <td>3.046470e+09</td>\n",
       "      <td>04/10/2023 10:36:48 AM</td>\n",
       "      <td>MOLD</td>\n",
       "      <td>04/11/2023 08:17:09 PM</td>\n",
       "    </tr>\n",
       "    <tr>\n",
       "      <th>...</th>\n",
       "      <td>...</td>\n",
       "      <td>...</td>\n",
       "      <td>...</td>\n",
       "      <td>...</td>\n",
       "      <td>...</td>\n",
       "    </tr>\n",
       "    <tr>\n",
       "      <th>326975</th>\n",
       "      <td>15634774</td>\n",
       "      <td>4.112020e+09</td>\n",
       "      <td>01/01/2010 12:00:00 AM</td>\n",
       "      <td>MOLD</td>\n",
       "      <td>02/13/2010 12:00:00 AM</td>\n",
       "    </tr>\n",
       "    <tr>\n",
       "      <th>326976</th>\n",
       "      <td>15634773</td>\n",
       "      <td>4.120640e+09</td>\n",
       "      <td>01/01/2010 12:00:00 AM</td>\n",
       "      <td>MOLD</td>\n",
       "      <td>01/11/2010 12:00:00 AM</td>\n",
       "    </tr>\n",
       "    <tr>\n",
       "      <th>326977</th>\n",
       "      <td>15635738</td>\n",
       "      <td>1.020010e+09</td>\n",
       "      <td>01/01/2010 12:00:00 AM</td>\n",
       "      <td>MOLD</td>\n",
       "      <td>01/17/2010 12:00:00 AM</td>\n",
       "    </tr>\n",
       "    <tr>\n",
       "      <th>326978</th>\n",
       "      <td>15635739</td>\n",
       "      <td>2.026860e+09</td>\n",
       "      <td>01/01/2010 12:00:00 AM</td>\n",
       "      <td>MOLD</td>\n",
       "      <td>01/29/2010 12:00:00 AM</td>\n",
       "    </tr>\n",
       "    <tr>\n",
       "      <th>326979</th>\n",
       "      <td>15635753</td>\n",
       "      <td>4.155550e+09</td>\n",
       "      <td>01/01/2010 12:00:00 AM</td>\n",
       "      <td>MOLD</td>\n",
       "      <td>01/08/2010 12:00:00 AM</td>\n",
       "    </tr>\n",
       "  </tbody>\n",
       "</table>\n",
       "<p>318890 rows × 5 columns</p>\n",
       "</div>"
      ],
      "text/plain": [
       "        Unique Key           BBL            Created Date Descriptor  \\\n",
       "52        57284227  4.096630e+09  04/11/2023 10:40:18 AM       MOLD   \n",
       "62        57273077  2.030990e+09  04/10/2023 06:49:42 PM       MOLD   \n",
       "81        57277837  5.000460e+09  04/10/2023 03:19:00 PM       MOLD   \n",
       "83        57278428  2.032120e+09  04/10/2023 03:12:47 PM       MOLD   \n",
       "106       57276497  3.046470e+09  04/10/2023 10:36:48 AM       MOLD   \n",
       "...            ...           ...                     ...        ...   \n",
       "326975    15634774  4.112020e+09  01/01/2010 12:00:00 AM       MOLD   \n",
       "326976    15634773  4.120640e+09  01/01/2010 12:00:00 AM       MOLD   \n",
       "326977    15635738  1.020010e+09  01/01/2010 12:00:00 AM       MOLD   \n",
       "326978    15635739  2.026860e+09  01/01/2010 12:00:00 AM       MOLD   \n",
       "326979    15635753  4.155550e+09  01/01/2010 12:00:00 AM       MOLD   \n",
       "\n",
       "                   Closed Date  \n",
       "52      04/11/2023 07:24:14 PM  \n",
       "62      04/11/2023 08:18:17 PM  \n",
       "81      04/11/2023 08:18:28 PM  \n",
       "83      04/11/2023 05:28:06 PM  \n",
       "106     04/11/2023 08:17:09 PM  \n",
       "...                        ...  \n",
       "326975  02/13/2010 12:00:00 AM  \n",
       "326976  01/11/2010 12:00:00 AM  \n",
       "326977  01/17/2010 12:00:00 AM  \n",
       "326978  01/29/2010 12:00:00 AM  \n",
       "326979  01/08/2010 12:00:00 AM  \n",
       "\n",
       "[318890 rows x 5 columns]"
      ]
     },
     "execution_count": 7,
     "metadata": {},
     "output_type": "execute_result"
    }
   ],
   "source": [
    "Data311Raw"
   ]
  },
  {
   "cell_type": "code",
   "execution_count": 8,
   "metadata": {},
   "outputs": [],
   "source": [
    "#reformat bbl\n",
    "Data311Raw['BBL'] = Data311Raw['BBL'].apply(lambda x: '{:.0f}'.format(float(x)))"
   ]
  },
  {
   "cell_type": "code",
   "execution_count": 9,
   "metadata": {},
   "outputs": [],
   "source": [
    "#Filter date\n",
    "Data311Raw['Created Date'] = pd.to_datetime(Data311Raw['Created Date']) "
   ]
  },
  {
   "cell_type": "code",
   "execution_count": 10,
   "metadata": {},
   "outputs": [
    {
     "data": {
      "text/html": [
       "<div>\n",
       "<style scoped>\n",
       "    .dataframe tbody tr th:only-of-type {\n",
       "        vertical-align: middle;\n",
       "    }\n",
       "\n",
       "    .dataframe tbody tr th {\n",
       "        vertical-align: top;\n",
       "    }\n",
       "\n",
       "    .dataframe thead th {\n",
       "        text-align: right;\n",
       "    }\n",
       "</style>\n",
       "<table border=\"1\" class=\"dataframe\">\n",
       "  <thead>\n",
       "    <tr style=\"text-align: right;\">\n",
       "      <th></th>\n",
       "      <th>Unique Key</th>\n",
       "      <th>BBL</th>\n",
       "      <th>Created Date</th>\n",
       "      <th>Descriptor</th>\n",
       "      <th>Closed Date</th>\n",
       "    </tr>\n",
       "  </thead>\n",
       "  <tbody>\n",
       "    <tr>\n",
       "      <th>52</th>\n",
       "      <td>57284227</td>\n",
       "      <td>4096630002</td>\n",
       "      <td>2023-04-11 10:40:18</td>\n",
       "      <td>MOLD</td>\n",
       "      <td>04/11/2023 07:24:14 PM</td>\n",
       "    </tr>\n",
       "    <tr>\n",
       "      <th>62</th>\n",
       "      <td>57273077</td>\n",
       "      <td>2030990008</td>\n",
       "      <td>2023-04-10 18:49:42</td>\n",
       "      <td>MOLD</td>\n",
       "      <td>04/11/2023 08:18:17 PM</td>\n",
       "    </tr>\n",
       "    <tr>\n",
       "      <th>81</th>\n",
       "      <td>57277837</td>\n",
       "      <td>5000460028</td>\n",
       "      <td>2023-04-10 15:19:00</td>\n",
       "      <td>MOLD</td>\n",
       "      <td>04/11/2023 08:18:28 PM</td>\n",
       "    </tr>\n",
       "    <tr>\n",
       "      <th>83</th>\n",
       "      <td>57278428</td>\n",
       "      <td>2032120078</td>\n",
       "      <td>2023-04-10 15:12:47</td>\n",
       "      <td>MOLD</td>\n",
       "      <td>04/11/2023 05:28:06 PM</td>\n",
       "    </tr>\n",
       "    <tr>\n",
       "      <th>106</th>\n",
       "      <td>57276497</td>\n",
       "      <td>3046470006</td>\n",
       "      <td>2023-04-10 10:36:48</td>\n",
       "      <td>MOLD</td>\n",
       "      <td>04/11/2023 08:17:09 PM</td>\n",
       "    </tr>\n",
       "    <tr>\n",
       "      <th>...</th>\n",
       "      <td>...</td>\n",
       "      <td>...</td>\n",
       "      <td>...</td>\n",
       "      <td>...</td>\n",
       "      <td>...</td>\n",
       "    </tr>\n",
       "    <tr>\n",
       "      <th>326975</th>\n",
       "      <td>15634774</td>\n",
       "      <td>4112020012</td>\n",
       "      <td>2010-01-01 00:00:00</td>\n",
       "      <td>MOLD</td>\n",
       "      <td>02/13/2010 12:00:00 AM</td>\n",
       "    </tr>\n",
       "    <tr>\n",
       "      <th>326976</th>\n",
       "      <td>15634773</td>\n",
       "      <td>4120640035</td>\n",
       "      <td>2010-01-01 00:00:00</td>\n",
       "      <td>MOLD</td>\n",
       "      <td>01/11/2010 12:00:00 AM</td>\n",
       "    </tr>\n",
       "    <tr>\n",
       "      <th>326977</th>\n",
       "      <td>15635738</td>\n",
       "      <td>1020010005</td>\n",
       "      <td>2010-01-01 00:00:00</td>\n",
       "      <td>MOLD</td>\n",
       "      <td>01/17/2010 12:00:00 AM</td>\n",
       "    </tr>\n",
       "    <tr>\n",
       "      <th>326978</th>\n",
       "      <td>15635739</td>\n",
       "      <td>2026860001</td>\n",
       "      <td>2010-01-01 00:00:00</td>\n",
       "      <td>MOLD</td>\n",
       "      <td>01/29/2010 12:00:00 AM</td>\n",
       "    </tr>\n",
       "    <tr>\n",
       "      <th>326979</th>\n",
       "      <td>15635753</td>\n",
       "      <td>4155550001</td>\n",
       "      <td>2010-01-01 00:00:00</td>\n",
       "      <td>MOLD</td>\n",
       "      <td>01/08/2010 12:00:00 AM</td>\n",
       "    </tr>\n",
       "  </tbody>\n",
       "</table>\n",
       "<p>318890 rows × 5 columns</p>\n",
       "</div>"
      ],
      "text/plain": [
       "        Unique Key         BBL        Created Date Descriptor  \\\n",
       "52        57284227  4096630002 2023-04-11 10:40:18       MOLD   \n",
       "62        57273077  2030990008 2023-04-10 18:49:42       MOLD   \n",
       "81        57277837  5000460028 2023-04-10 15:19:00       MOLD   \n",
       "83        57278428  2032120078 2023-04-10 15:12:47       MOLD   \n",
       "106       57276497  3046470006 2023-04-10 10:36:48       MOLD   \n",
       "...            ...         ...                 ...        ...   \n",
       "326975    15634774  4112020012 2010-01-01 00:00:00       MOLD   \n",
       "326976    15634773  4120640035 2010-01-01 00:00:00       MOLD   \n",
       "326977    15635738  1020010005 2010-01-01 00:00:00       MOLD   \n",
       "326978    15635739  2026860001 2010-01-01 00:00:00       MOLD   \n",
       "326979    15635753  4155550001 2010-01-01 00:00:00       MOLD   \n",
       "\n",
       "                   Closed Date  \n",
       "52      04/11/2023 07:24:14 PM  \n",
       "62      04/11/2023 08:18:17 PM  \n",
       "81      04/11/2023 08:18:28 PM  \n",
       "83      04/11/2023 05:28:06 PM  \n",
       "106     04/11/2023 08:17:09 PM  \n",
       "...                        ...  \n",
       "326975  02/13/2010 12:00:00 AM  \n",
       "326976  01/11/2010 12:00:00 AM  \n",
       "326977  01/17/2010 12:00:00 AM  \n",
       "326978  01/29/2010 12:00:00 AM  \n",
       "326979  01/08/2010 12:00:00 AM  \n",
       "\n",
       "[318890 rows x 5 columns]"
      ]
     },
     "execution_count": 10,
     "metadata": {},
     "output_type": "execute_result"
    }
   ],
   "source": [
    "Data311Raw"
   ]
  },
  {
   "cell_type": "code",
   "execution_count": 11,
   "metadata": {},
   "outputs": [],
   "source": [
    "start_date = pd.to_datetime('2010-01-01')\n",
    "end_date = pd.to_datetime('2023-01-01')\n",
    "filtered_df = Data311Raw.loc[(Data311Raw['Created Date'] >= start_date) & (Data311Raw['Created Date'] <= end_date)]\n"
   ]
  },
  {
   "cell_type": "code",
   "execution_count": 12,
   "metadata": {},
   "outputs": [],
   "source": [
    "filtered_df.to_csv('../Output/MoldComplaints_311_2010to2022')"
   ]
  }
 ],
 "metadata": {
  "kernelspec": {
   "display_name": "testv37",
   "language": "python",
   "name": "python3"
  },
  "language_info": {
   "codemirror_mode": {
    "name": "ipython",
    "version": 3
   },
   "file_extension": ".py",
   "mimetype": "text/x-python",
   "name": "python",
   "nbconvert_exporter": "python",
   "pygments_lexer": "ipython3",
   "version": "3.7.13"
  },
  "orig_nbformat": 4
 },
 "nbformat": 4,
 "nbformat_minor": 2
}
