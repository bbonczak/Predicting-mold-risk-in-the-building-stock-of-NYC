{
 "cells": [
  {
   "attachments": {},
   "cell_type": "markdown",
   "metadata": {},
   "source": [
    "# NYC PLUTO Data Processing\n",
    "\n",
    "### Author: Bartosz Bonczak"
   ]
  },
  {
   "cell_type": "code",
   "execution_count": 1,
   "metadata": {},
   "outputs": [],
   "source": [
    "import pandas as pd\n",
    "import numpy as np\n",
    "\n",
    "from IPython.display import clear_output\n",
    "\n",
    "import warnings\n",
    "warnings.filterwarnings(\"ignore\")\n",
    "%matplotlib inline"
   ]
  },
  {
   "attachments": {},
   "cell_type": "markdown",
   "metadata": {},
   "source": [
    "# get PLUTO data\n",
    "\n",
    "Obtain PLUTO from NYC Open Data: https://data.cityofnewyork.us/resource/64uk-42ks.json"
   ]
  },
  {
   "cell_type": "code",
   "execution_count": null,
   "metadata": {},
   "outputs": [],
   "source": [
    "# setup Socrata client, in this example we use generic, unauthenticated account\n",
    "client = Socrata(\"data.cityofnewyork.us\", your_token)\n",
    "dataset_id = \"64uk-42ks\"\n",
    "\n",
    "# Obtain the dataset as JSON from API by sodapy.\n",
    "data = client.get(dataset_id, limit=1000000)\n",
    "\n",
    "\n",
    "# Convert results to pandas DataFrame\n",
    "pluto = pd.DataFrame.from_records(data)\n",
    "pluto.to_csv(\"../data/big_data/pluto_nycod.csv\", index=False)\n"
   ]
  },
  {
   "cell_type": "code",
   "execution_count": 4,
   "metadata": {},
   "outputs": [],
   "source": [
    "\n",
    "pluto = pd.read_csv(\"../data/big_data/pluto_nycod.csv\")"
   ]
  },
  {
   "cell_type": "markdown",
   "metadata": {},
   "source": [
    "# Process PLUTO data"
   ]
  },
  {
   "cell_type": "code",
   "execution_count": 5,
   "metadata": {},
   "outputs": [],
   "source": [
    "bldg_class_dict = {\n",
    "    'A':'ONE FAMILY DWELLINGS',\n",
    "    'B':'TWO FAMILY DWELLINGS',\n",
    "    'C':'WALK UP APARTMENTS',\n",
    "    'D':'ELEVATOR APARTMENTS',\n",
    "    'E':'WAREHOUSES',\n",
    "    'F':'FACTORIES AND INDUSTRIAL BUILDINGS',\n",
    "    'G':'GARAGES',\n",
    "    'H':'HOTELS',\n",
    "    'I':'HOSPITALS AND HEALTH FACILITIES',\n",
    "    'J':'THEATRES',\n",
    "    'K':'STORE BUILDINGS',\n",
    "    'L':'LOFTS',\n",
    "    'M':'RELIGIOUS FACILITIES',\n",
    "    'N':'ASYLUMS AND HOMES',\n",
    "    'O':'OFFICE BUILDINGS',\n",
    "    'P':'INDOOR PUBLIC ASSEMBLY & CULT. FACILITIES',\n",
    "    'Q':'OUTDOOR RECREATIONAL FACILITIES',\n",
    "    'R':'CONDOMINIUMS',\n",
    "    'S':'PRIMARILY RES. - MIXED USE',\n",
    "    'T':'TRANSPORTATION FACILITIES',\n",
    "    'U':'UTILITY BUREAU PROPERTIES',\n",
    "    'V':'VACANT LAND',\n",
    "    'W':'EDUCATIONAL FACILITIES',\n",
    "    'Y':'GOVERNMENT/CITY DEPARTMENTS',\n",
    "    'Z':'MISC. BUILDING CLASSIFICATIONS',\n",
    "    'n':'OTHER'\n",
    "\n",
    "}"
   ]
  },
  {
   "cell_type": "code",
   "execution_count": 6,
   "metadata": {},
   "outputs": [],
   "source": [
    "cols_pluto = [\n",
    "    'bbl', 'latitude', 'longitude',  \n",
    "    'yearbuilt', 'yearalter1', 'yearalter2',\n",
    "    'bldgclass', 'landuse', 'bldgarea', 'resarea',\n",
    "    'numbldgs', 'numfloors', 'unitsres', 'unitstotal',\n",
    "    'bldgfront', 'bldgdepth',  'proxcode', 'bsmtcode',\n",
    "    'assessland','assesstot',\n",
    "]\n",
    "\n",
    "pluto = pluto[cols_pluto]"
   ]
  },
  {
   "cell_type": "markdown",
   "metadata": {},
   "source": [
    "# feature engineering\n"
   ]
  },
  {
   "cell_type": "code",
   "execution_count": 7,
   "metadata": {},
   "outputs": [],
   "source": [
    "\n",
    "# bbl\n",
    "pluto.bbl = pluto.bbl.astype(int).astype(str).str.zfill(10)\n",
    "\n",
    "for c in ['yearbuilt', 'yearalter1', 'yearalter2']:\n",
    "    pluto[c] = pd.to_datetime(pluto[c], errors='coerce', format=\"%Y\")\n",
    "\n",
    "# convert to numeric\n",
    "pluto[['latitude', 'longitude', 'bldgarea', 'resarea', 'numbldgs', 'numfloors', \n",
    "       'unitsres', 'unitstotal', 'bldgfront', 'bldgdepth',  'assessland','assesstot']] = \\\n",
    "pluto[['latitude', 'longitude', 'bldgarea', 'resarea', 'numbldgs', 'numfloors', \n",
    "       'unitsres', 'unitstotal', 'bldgfront', 'bldgdepth',  'assessland','assesstot']].astype(float)\n",
    "\n",
    "# convert categorical to strings\n",
    "for c in ['bldgclass', 'landuse',  'proxcode', 'bsmtcode']:\n",
    "    pluto[c] = pluto[c].astype(str).apply(lambda x: x.split('.')[0].zfill(2))\n"
   ]
  },
  {
   "cell_type": "code",
   "execution_count": 8,
   "metadata": {},
   "outputs": [],
   "source": [
    "pluto['most_recent_alt'] = pluto[['yearalter1', 'yearalter2']].max(axis=1)\n",
    "\n",
    "pluto['age'] = int(pd.datetime.today().year) - pluto.yearbuilt.dt.year\n",
    "\n",
    "pluto['age_since_alt'] = int(pd.datetime.today().year) - pluto.most_recent_alt.dt.year\n",
    "\n",
    "pluto['pct_res'] = pluto['resarea'] / pluto['bldgarea']\n",
    "\n",
    "pluto['avg_unit_size'] = pluto['resarea'] / pluto['unitsres']\n",
    "\n",
    "pluto['bldg_shape_ratio'] = pluto['bldgfront'] / pluto['bldgdepth']\n",
    "\n",
    "pluto['bldg_value'] = pluto['assesstot'] - pluto['assessland']\n",
    "\n",
    "pluto['main_bldg_class'] = pluto.bldgclass.apply(lambda x: x[:1])"
   ]
  },
  {
   "cell_type": "code",
   "execution_count": 9,
   "metadata": {},
   "outputs": [],
   "source": [
    "prox_code_dict = {\n",
    "    '00':'not_available',\n",
    "    '01':'detached',\n",
    "    '02':'semi_attached',\n",
    "    '03':'attached'\n",
    "}\n",
    "\n",
    "pluto['proxcode'] = pluto['proxcode'].map(prox_code_dict)\n",
    "\n",
    "pluto = pluto.join(pd.get_dummies(pluto[['proxcode']]))"
   ]
  },
  {
   "cell_type": "code",
   "execution_count": 10,
   "metadata": {},
   "outputs": [],
   "source": [
    "bsmt_code_dict = {\n",
    "    '00':'no_basement',\n",
    "    '01':'bsmt_above',\n",
    "    '02':'bsmt_below',\n",
    "    '03':'bsmt_above',\n",
    "    '04':'bsmt_below',\n",
    "    '05':'not_available',\n",
    "}\n",
    "\n",
    "pluto['bsmtcode'] = pluto['bsmtcode'].map(bsmt_code_dict)\n",
    "\n",
    "pluto = pluto.join(pd.get_dummies(pluto[['bsmtcode']]))"
   ]
  },
  {
   "cell_type": "code",
   "execution_count": 11,
   "metadata": {},
   "outputs": [],
   "source": [
    "pluto.to_csv(\"../output/pluto_processed.csv\", index=False)"
   ]
  },
  {
   "cell_type": "code",
   "execution_count": null,
   "metadata": {},
   "outputs": [],
   "source": []
  }
 ],
 "metadata": {
  "kernelspec": {
   "display_name": "geostack",
   "language": "python",
   "name": "python3"
  },
  "language_info": {
   "codemirror_mode": {
    "name": "ipython",
    "version": 3
   },
   "file_extension": ".py",
   "mimetype": "text/x-python",
   "name": "python",
   "nbconvert_exporter": "python",
   "pygments_lexer": "ipython3",
   "version": "3.7.13"
  },
  "orig_nbformat": 4
 },
 "nbformat": 4,
 "nbformat_minor": 2
}
